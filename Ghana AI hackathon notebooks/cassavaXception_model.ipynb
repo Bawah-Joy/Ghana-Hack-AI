{
 "cells": [
  {
   "cell_type": "code",
   "execution_count": 4,
   "id": "4d161d05-4880-42d1-8ace-920a3c934134",
   "metadata": {
    "execution": {
     "iopub.execute_input": "2025-07-17T15:27:18.805875Z",
     "iopub.status.busy": "2025-07-17T15:27:18.805518Z",
     "iopub.status.idle": "2025-07-17T15:27:34.415023Z",
     "shell.execute_reply": "2025-07-17T15:27:34.414471Z",
     "shell.execute_reply.started": "2025-07-17T15:27:18.805845Z"
    },
    "id": "4d161d05-4880-42d1-8ace-920a3c934134",
    "outputId": "ed4a4047-3349-40f0-e702-13215d38d6c6"
   },
   "outputs": [
    {
     "name": "stderr",
     "output_type": "stream",
     "text": [
      "2025-07-17 15:27:21.897449: E external/local_xla/xla/stream_executor/cuda/cuda_fft.cc:477] Unable to register cuFFT factory: Attempting to register factory for plugin cuFFT when one has already been registered\n",
      "WARNING: All log messages before absl::InitializeLog() is called are written to STDERR\n",
      "E0000 00:00:1752766042.068777      36 cuda_dnn.cc:8310] Unable to register cuDNN factory: Attempting to register factory for plugin cuDNN when one has already been registered\n",
      "E0000 00:00:1752766042.121844      36 cuda_blas.cc:1418] Unable to register cuBLAS factory: Attempting to register factory for plugin cuBLAS when one has already been registered\n"
     ]
    }
   ],
   "source": [
    "import os\n",
    "import pandas as pd\n",
    "import numpy as np\n",
    "import tensorflow as tf\n",
    "import matplotlib.pyplot as plt\n",
    "import seaborn as sns\n",
    "import random\n",
    "import math\n",
    "import copy\n",
    "import cv2\n",
    "\n",
    "from tensorflow.keras.preprocessing import image\n",
    "from tensorflow.keras.preprocessing.image import load_img\n",
    "from tensorflow.keras.preprocessing.image import ImageDataGenerator\n",
    "\n",
    "from tensorflow.keras.applications.xception import Xception\n",
    "from tensorflow.keras.callbacks import ModelCheckpoint, EarlyStopping, Callback\n",
    "from tensorflow.keras.callbacks import ReduceLROnPlateau\n",
    "from tensorflow.keras.applications.xception import preprocess_input, decode_predictions\n",
    "from tensorflow.keras.optimizers import Adam, RMSprop\n",
    "from tensorflow.keras.models import Model, Sequential\n",
    "from tensorflow.keras.layers import Dense, Flatten, Dropout\n",
    "from tensorflow.keras.preprocessing import image_dataset_from_directory\n",
    "#from tensorflow.keras.layers.experimental.preprocessing import RandomFlip, RandomRotation\n",
    "from tensorflow.keras.layers import RandomFlip, RandomRotation\n",
    "\n",
    "from keras import backend as K\n",
    "from sklearn.metrics import classification_report, confusion_matrix\n"
   ]
  },
  {
   "cell_type": "code",
   "execution_count": 5,
   "id": "f6d512c2-d0be-4b2c-9653-1989d2d94e93",
   "metadata": {
    "execution": {
     "iopub.execute_input": "2025-07-17T15:27:34.416653Z",
     "iopub.status.busy": "2025-07-17T15:27:34.416142Z",
     "iopub.status.idle": "2025-07-17T15:27:38.255628Z",
     "shell.execute_reply": "2025-07-17T15:27:38.254862Z",
     "shell.execute_reply.started": "2025-07-17T15:27:34.416631Z"
    },
    "id": "f6d512c2-d0be-4b2c-9653-1989d2d94e93",
    "outputId": "5bf7a4b3-4009-4a3c-d57e-2ea3e37c635c"
   },
   "outputs": [
    {
     "name": "stdout",
     "output_type": "stream",
     "text": [
      "Requirement already satisfied: gdown in /usr/local/lib/python3.11/dist-packages (5.2.0)\n",
      "Requirement already satisfied: beautifulsoup4 in /usr/local/lib/python3.11/dist-packages (from gdown) (4.13.4)\n",
      "Requirement already satisfied: filelock in /usr/local/lib/python3.11/dist-packages (from gdown) (3.18.0)\n",
      "Requirement already satisfied: requests[socks] in /usr/local/lib/python3.11/dist-packages (from gdown) (2.32.4)\n",
      "Requirement already satisfied: tqdm in /usr/local/lib/python3.11/dist-packages (from gdown) (4.67.1)\n",
      "Requirement already satisfied: soupsieve>1.2 in /usr/local/lib/python3.11/dist-packages (from beautifulsoup4->gdown) (2.7)\n",
      "Requirement already satisfied: typing-extensions>=4.0.0 in /usr/local/lib/python3.11/dist-packages (from beautifulsoup4->gdown) (4.14.0)\n",
      "Requirement already satisfied: charset_normalizer<4,>=2 in /usr/local/lib/python3.11/dist-packages (from requests[socks]->gdown) (3.4.2)\n",
      "Requirement already satisfied: idna<4,>=2.5 in /usr/local/lib/python3.11/dist-packages (from requests[socks]->gdown) (3.10)\n",
      "Requirement already satisfied: urllib3<3,>=1.21.1 in /usr/local/lib/python3.11/dist-packages (from requests[socks]->gdown) (2.5.0)\n",
      "Requirement already satisfied: certifi>=2017.4.17 in /usr/local/lib/python3.11/dist-packages (from requests[socks]->gdown) (2025.6.15)\n",
      "Requirement already satisfied: PySocks!=1.5.7,>=1.5.6 in /usr/local/lib/python3.11/dist-packages (from requests[socks]->gdown) (1.7.1)\n"
     ]
    }
   ],
   "source": [
    "!pip install gdown"
   ]
  },
  {
   "cell_type": "code",
   "execution_count": 6,
   "id": "6304bbcb-69ec-439b-8212-64937f9f7f04",
   "metadata": {
    "execution": {
     "iopub.execute_input": "2025-07-17T15:27:38.256850Z",
     "iopub.status.busy": "2025-07-17T15:27:38.256584Z",
     "iopub.status.idle": "2025-07-17T15:39:57.834754Z",
     "shell.execute_reply": "2025-07-17T15:39:57.833937Z",
     "shell.execute_reply.started": "2025-07-17T15:27:38.256828Z"
    },
    "id": "6304bbcb-69ec-439b-8212-64937f9f7f04",
    "outputId": "803d2d18-3c24-49b9-99f1-ca7a907ffdee"
   },
   "outputs": [
    {
     "name": "stderr",
     "output_type": "stream",
     "text": [
      "Downloading...\n",
      "From: https://prod-dcd-datasets-cache-zipfiles.s3.eu-west-1.amazonaws.com/bwh3zbpkpv-1.zip\n",
      "To: /kaggle/working/bwh3zbpkpv-1.zip\n",
      "100%|██████████| 8.44G/8.44G [12:18<00:00, 11.4MB/s]  \n"
     ]
    },
    {
     "data": {
      "text/plain": [
       "'bwh3zbpkpv-1.zip'"
      ]
     },
     "execution_count": 6,
     "metadata": {},
     "output_type": "execute_result"
    }
   ],
   "source": [
    "import gdown\n",
    "\n",
    "# a file\n",
    "url = \"https://prod-dcd-datasets-cache-zipfiles.s3.eu-west-1.amazonaws.com/bwh3zbpkpv-1.zip\"\n",
    "gdown.download(url)"
   ]
  },
  {
   "cell_type": "code",
   "execution_count": 7,
   "id": "8818b38b-f0ad-40e5-9c9d-807f996c5f4a",
   "metadata": {
    "execution": {
     "iopub.execute_input": "2025-07-17T15:39:57.837207Z",
     "iopub.status.busy": "2025-07-17T15:39:57.836727Z",
     "iopub.status.idle": "2025-07-17T15:40:51.508984Z",
     "shell.execute_reply": "2025-07-17T15:40:51.508190Z",
     "shell.execute_reply.started": "2025-07-17T15:39:57.837189Z"
    },
    "id": "8818b38b-f0ad-40e5-9c9d-807f996c5f4a",
    "outputId": "62167d5e-654d-41f7-83e2-561187dfe128"
   },
   "outputs": [
    {
     "name": "stdout",
     "output_type": "stream",
     "text": [
      "Unzipped to: /kaggle/working/bwh3zbpkpv\n"
     ]
    }
   ],
   "source": [
    "import zipfile\n",
    "import os\n",
    "\n",
    "zip_path = \"/kaggle/working/bwh3zbpkpv-1.zip\"\n",
    "extract_path = \"/kaggle/working/bwh3zbpkpv\"\n",
    "\n",
    "with zipfile.ZipFile(zip_path, 'r') as zip_ref:\n",
    "    zip_ref.extractall(extract_path)\n",
    "\n",
    "print(\"Unzipped to:\", extract_path)\n"
   ]
  },
  {
   "cell_type": "code",
   "execution_count": 8,
   "id": "bf8de700-2b57-4b68-973a-7bc6b714f2e3",
   "metadata": {
    "execution": {
     "iopub.execute_input": "2025-07-17T15:40:51.510072Z",
     "iopub.status.busy": "2025-07-17T15:40:51.509808Z",
     "iopub.status.idle": "2025-07-17T15:40:51.514933Z",
     "shell.execute_reply": "2025-07-17T15:40:51.514235Z",
     "shell.execute_reply.started": "2025-07-17T15:40:51.510046Z"
    },
    "id": "bf8de700-2b57-4b68-973a-7bc6b714f2e3",
    "outputId": "1b5425a3-4c6b-4997-ed0d-064d1ff7cf1c"
   },
   "outputs": [
    {
     "name": "stdout",
     "output_type": "stream",
     "text": [
      "Current folder: /kaggle/working/bwh3zbpkpv\n",
      "Subfolders: ['Dataset for Crop Pest and Disease Detection']\n",
      "Files: []\n"
     ]
    }
   ],
   "source": [
    "# List the top-level files and folders\n",
    "for root, dirs, files in os.walk(extract_path):\n",
    "    print(\"Current folder:\", root)\n",
    "    print(\"Subfolders:\", dirs)\n",
    "    print(\"Files:\", files)\n",
    "    break  # Remove this 'break' to see everything recursively\n"
   ]
  },
  {
   "cell_type": "code",
   "execution_count": 9,
   "id": "6530f79e-dde8-465a-bb60-32263ad727cb",
   "metadata": {
    "execution": {
     "iopub.execute_input": "2025-07-17T15:40:51.516388Z",
     "iopub.status.busy": "2025-07-17T15:40:51.515724Z",
     "iopub.status.idle": "2025-07-17T15:40:53.118525Z",
     "shell.execute_reply": "2025-07-17T15:40:53.117814Z",
     "shell.execute_reply.started": "2025-07-17T15:40:51.516371Z"
    },
    "id": "6530f79e-dde8-465a-bb60-32263ad727cb",
    "outputId": "a44165ee-0d72-43d0-ca82-27582a4cd15f"
   },
   "outputs": [
    {
     "name": "stdout",
     "output_type": "stream",
     "text": [
      "Current folder: /kaggle/working/bwh3zbpkpv/Dataset for Crop Pest and Disease Detection\n",
      "Subfolders: ['Raw Data', 'CCMT Dataset-Augmented']\n",
      "Files: []\n"
     ]
    }
   ],
   "source": [
    "import os\n",
    "\n",
    "inner_folder = os.path.join(extract_path, \"Dataset for Crop Pest and Disease Detection\")\n",
    "\n",
    "for root, dirs, files in os.walk(inner_folder):\n",
    "    print(\"Current folder:\", root)\n",
    "    print(\"Subfolders:\", dirs)\n",
    "    print(\"Files:\", files)\n",
    "    break  # remove break if you want to go deeper\n"
   ]
  },
  {
   "cell_type": "code",
   "execution_count": 10,
   "id": "88b91be4-9f5f-4670-a686-e9c93d72beb9",
   "metadata": {
    "execution": {
     "iopub.execute_input": "2025-07-17T15:40:53.119643Z",
     "iopub.status.busy": "2025-07-17T15:40:53.119368Z",
     "iopub.status.idle": "2025-07-17T15:40:53.530896Z",
     "shell.execute_reply": "2025-07-17T15:40:53.530301Z",
     "shell.execute_reply.started": "2025-07-17T15:40:53.119621Z"
    },
    "id": "88b91be4-9f5f-4670-a686-e9c93d72beb9",
    "outputId": "a0fd3ea4-428a-4519-9d28-5f7cff7e0fc7"
   },
   "outputs": [
    {
     "name": "stdout",
     "output_type": "stream",
     "text": [
      "Current folder: /kaggle/working/bwh3zbpkpv/Dataset for Crop Pest and Disease Detection/CCMT Dataset-Augmented\n",
      "Subfolders: ['Cassava', 'Tomato', 'Cashew', 'Maize']\n",
      "Files: []\n"
     ]
    }
   ],
   "source": [
    "ccmt_path = os.path.join(inner_folder, \"CCMT Dataset-Augmented\")\n",
    "\n",
    "for root, dirs, files in os.walk(ccmt_path):\n",
    "    print(\"Current folder:\", root)\n",
    "    print(\"Subfolders:\", dirs)\n",
    "    print(\"Files:\", files)\n",
    "    break\n"
   ]
  },
  {
   "cell_type": "code",
   "execution_count": 11,
   "id": "9c0d8704-9290-47d4-bdf8-0f9ef82bcfb3",
   "metadata": {
    "execution": {
     "iopub.execute_input": "2025-07-17T15:40:53.531811Z",
     "iopub.status.busy": "2025-07-17T15:40:53.531606Z",
     "iopub.status.idle": "2025-07-17T15:40:53.546887Z",
     "shell.execute_reply": "2025-07-17T15:40:53.546153Z",
     "shell.execute_reply.started": "2025-07-17T15:40:53.531795Z"
    },
    "id": "9c0d8704-9290-47d4-bdf8-0f9ef82bcfb3"
   },
   "outputs": [],
   "source": [
    "train_dir = os.path.join(\n",
    "    inner_folder,\n",
    "    \"CCMT Dataset-Augmented\",\n",
    "    \"Cassava\",\n",
    "    \"train_set\"\n",
    ")\n",
    "\n",
    "test_dir = os.path.join(\n",
    "    inner_folder,\n",
    "    \"CCMT Dataset-Augmented\",\n",
    "    \"Cassava\",\n",
    "    \"test_set\"\n",
    ")\n",
    "\n",
    "# validation_dir = os.path.join(\n",
    "#     inner_folder,\n",
    "#     \"Raw Data\",\n",
    "#     \"CCMT Dataset\",\n",
    "#     \"Cashew\",\n",
    "# )\n",
    "validation_dir = os.path.join(\n",
    "    inner_folder,\n",
    "    \"CCMT Dataset-Augmented\",\n",
    "    \"Cassava\",\n",
    "    \"test_set\"\n",
    ")"
   ]
  },
  {
   "cell_type": "code",
   "execution_count": 12,
   "id": "SnueqfUvEtxG",
   "metadata": {
    "execution": {
     "iopub.execute_input": "2025-07-17T15:40:53.547872Z",
     "iopub.status.busy": "2025-07-17T15:40:53.547663Z",
     "iopub.status.idle": "2025-07-17T15:40:53.560417Z",
     "shell.execute_reply": "2025-07-17T15:40:53.559774Z",
     "shell.execute_reply.started": "2025-07-17T15:40:53.547849Z"
    },
    "id": "SnueqfUvEtxG"
   },
   "outputs": [],
   "source": [
    "# from google.colab import drive\n",
    "# drive.mount('/content/drive')"
   ]
  },
  {
   "cell_type": "markdown",
   "id": "ad31a485-19fe-4a5b-944d-709d26c380c1",
   "metadata": {
    "id": "ad31a485-19fe-4a5b-944d-709d26c380c1"
   },
   "source": [
    "# define train forms"
   ]
  },
  {
   "cell_type": "code",
   "execution_count": 13,
   "id": "a3943d4f-1c6f-4482-9cd0-7169f4a42067",
   "metadata": {
    "execution": {
     "iopub.execute_input": "2025-07-17T15:40:53.564091Z",
     "iopub.status.busy": "2025-07-17T15:40:53.563905Z",
     "iopub.status.idle": "2025-07-17T15:40:53.574852Z",
     "shell.execute_reply": "2025-07-17T15:40:53.574305Z",
     "shell.execute_reply.started": "2025-07-17T15:40:53.564077Z"
    }
   },
   "outputs": [
    {
     "name": "stdout",
     "output_type": "stream",
     "text": [
      "['healthy', 'bacterial blight', 'bacterial blight3241', 'green mite', 'brown spot', 'mosaic']\n"
     ]
    }
   ],
   "source": [
    "import os\n",
    "\n",
    "base_path = '/kaggle/working/bwh3zbpkpv/Dataset for Crop Pest and Disease Detection/CCMT Dataset-Augmented/Cassava/train_set'\n",
    "print(os.listdir(base_path))\n"
   ]
  },
  {
   "cell_type": "code",
   "execution_count": 14,
   "id": "ab931cdf-223a-4a6b-b5aa-4638565dc21c",
   "metadata": {
    "execution": {
     "iopub.execute_input": "2025-07-17T15:40:53.575750Z",
     "iopub.status.busy": "2025-07-17T15:40:53.575527Z",
     "iopub.status.idle": "2025-07-17T15:40:53.709947Z",
     "shell.execute_reply": "2025-07-17T15:40:53.709434Z",
     "shell.execute_reply.started": "2025-07-17T15:40:53.575729Z"
    },
    "id": "ab931cdf-223a-4a6b-b5aa-4638565dc21c"
   },
   "outputs": [],
   "source": [
    "import shutil\n",
    "\n",
    "shutil.rmtree('/kaggle/working/bwh3zbpkpv/Dataset for Crop Pest and Disease Detection/CCMT Dataset-Augmented/Cassava/train_set/bacterial blight3241')\n"
   ]
  },
  {
   "cell_type": "code",
   "execution_count": 15,
   "id": "ca45a774-3e31-41eb-ad76-cf83f74baaca",
   "metadata": {
    "execution": {
     "iopub.execute_input": "2025-07-17T15:40:53.710979Z",
     "iopub.status.busy": "2025-07-17T15:40:53.710758Z",
     "iopub.status.idle": "2025-07-17T15:40:53.742082Z",
     "shell.execute_reply": "2025-07-17T15:40:53.741621Z",
     "shell.execute_reply.started": "2025-07-17T15:40:53.710960Z"
    },
    "id": "ca45a774-3e31-41eb-ad76-cf83f74baaca"
   },
   "outputs": [],
   "source": [
    "import os\n",
    "\n",
    "train_data = []\n",
    "\n",
    "for class_name in os.listdir(train_dir):\n",
    "    class_path = os.path.join(train_dir, class_name)\n",
    "    if os.path.isdir(class_path):  # ✅ only process directories\n",
    "        for file_name in os.listdir(class_path):\n",
    "            file_path = os.path.join(class_path, file_name)\n",
    "            train_data.append((file_path, class_name))"
   ]
  },
  {
   "cell_type": "code",
   "execution_count": null,
   "id": "3b8848e4-74df-41cb-8d10-9f15d8d85ed7",
   "metadata": {
    "id": "3b8848e4-74df-41cb-8d10-9f15d8d85ed7"
   },
   "outputs": [],
   "source": []
  },
  {
   "cell_type": "code",
   "execution_count": 16,
   "id": "2e3d507f-c4cd-45c3-be74-0536601ff839",
   "metadata": {
    "colab": {
     "base_uri": "https://localhost:8080/",
     "height": 206
    },
    "execution": {
     "iopub.execute_input": "2025-07-17T15:40:53.742973Z",
     "iopub.status.busy": "2025-07-17T15:40:53.742741Z",
     "iopub.status.idle": "2025-07-17T15:40:53.772238Z",
     "shell.execute_reply": "2025-07-17T15:40:53.771704Z",
     "shell.execute_reply.started": "2025-07-17T15:40:53.742954Z"
    },
    "id": "2e3d507f-c4cd-45c3-be74-0536601ff839",
    "outputId": "fec52dad-a3fa-4406-f0a7-b355610bd337"
   },
   "outputs": [
    {
     "data": {
      "text/html": [
       "<div>\n",
       "<style scoped>\n",
       "    .dataframe tbody tr th:only-of-type {\n",
       "        vertical-align: middle;\n",
       "    }\n",
       "\n",
       "    .dataframe tbody tr th {\n",
       "        vertical-align: top;\n",
       "    }\n",
       "\n",
       "    .dataframe thead th {\n",
       "        text-align: right;\n",
       "    }\n",
       "</style>\n",
       "<table border=\"1\" class=\"dataframe\">\n",
       "  <thead>\n",
       "    <tr style=\"text-align: right;\">\n",
       "      <th></th>\n",
       "      <th>File_Path</th>\n",
       "      <th>Class_Name</th>\n",
       "    </tr>\n",
       "  </thead>\n",
       "  <tbody>\n",
       "    <tr>\n",
       "      <th>0</th>\n",
       "      <td>/kaggle/working/bwh3zbpkpv/Dataset for Crop Pe...</td>\n",
       "      <td>healthy</td>\n",
       "    </tr>\n",
       "    <tr>\n",
       "      <th>1</th>\n",
       "      <td>/kaggle/working/bwh3zbpkpv/Dataset for Crop Pe...</td>\n",
       "      <td>healthy</td>\n",
       "    </tr>\n",
       "    <tr>\n",
       "      <th>2</th>\n",
       "      <td>/kaggle/working/bwh3zbpkpv/Dataset for Crop Pe...</td>\n",
       "      <td>healthy</td>\n",
       "    </tr>\n",
       "    <tr>\n",
       "      <th>3</th>\n",
       "      <td>/kaggle/working/bwh3zbpkpv/Dataset for Crop Pe...</td>\n",
       "      <td>healthy</td>\n",
       "    </tr>\n",
       "    <tr>\n",
       "      <th>4</th>\n",
       "      <td>/kaggle/working/bwh3zbpkpv/Dataset for Crop Pe...</td>\n",
       "      <td>healthy</td>\n",
       "    </tr>\n",
       "  </tbody>\n",
       "</table>\n",
       "</div>"
      ],
      "text/plain": [
       "                                           File_Path Class_Name\n",
       "0  /kaggle/working/bwh3zbpkpv/Dataset for Crop Pe...    healthy\n",
       "1  /kaggle/working/bwh3zbpkpv/Dataset for Crop Pe...    healthy\n",
       "2  /kaggle/working/bwh3zbpkpv/Dataset for Crop Pe...    healthy\n",
       "3  /kaggle/working/bwh3zbpkpv/Dataset for Crop Pe...    healthy\n",
       "4  /kaggle/working/bwh3zbpkpv/Dataset for Crop Pe...    healthy"
      ]
     },
     "execution_count": 16,
     "metadata": {},
     "output_type": "execute_result"
    }
   ],
   "source": [
    "train_df = pd.DataFrame(train_data, columns=['File_Path', 'Class_Name'])\n",
    "train_df.head()"
   ]
  },
  {
   "cell_type": "code",
   "execution_count": 17,
   "id": "a95cabf6-a0c9-4f7c-b5f9-62aef830af8c",
   "metadata": {
    "colab": {
     "base_uri": "https://localhost:8080/",
     "height": 206
    },
    "execution": {
     "iopub.execute_input": "2025-07-17T15:40:53.773407Z",
     "iopub.status.busy": "2025-07-17T15:40:53.773010Z",
     "iopub.status.idle": "2025-07-17T15:40:53.786515Z",
     "shell.execute_reply": "2025-07-17T15:40:53.785823Z",
     "shell.execute_reply.started": "2025-07-17T15:40:53.773391Z"
    },
    "id": "a95cabf6-a0c9-4f7c-b5f9-62aef830af8c",
    "outputId": "641745e4-4f05-402f-9421-2a1a312210ed"
   },
   "outputs": [
    {
     "data": {
      "text/html": [
       "<div>\n",
       "<style scoped>\n",
       "    .dataframe tbody tr th:only-of-type {\n",
       "        vertical-align: middle;\n",
       "    }\n",
       "\n",
       "    .dataframe tbody tr th {\n",
       "        vertical-align: top;\n",
       "    }\n",
       "\n",
       "    .dataframe thead th {\n",
       "        text-align: right;\n",
       "    }\n",
       "</style>\n",
       "<table border=\"1\" class=\"dataframe\">\n",
       "  <thead>\n",
       "    <tr style=\"text-align: right;\">\n",
       "      <th></th>\n",
       "      <th>File_Path</th>\n",
       "      <th>Class_Name</th>\n",
       "      <th>Class_ID</th>\n",
       "    </tr>\n",
       "  </thead>\n",
       "  <tbody>\n",
       "    <tr>\n",
       "      <th>0</th>\n",
       "      <td>/kaggle/working/bwh3zbpkpv/Dataset for Crop Pe...</td>\n",
       "      <td>healthy</td>\n",
       "      <td>3</td>\n",
       "    </tr>\n",
       "    <tr>\n",
       "      <th>1</th>\n",
       "      <td>/kaggle/working/bwh3zbpkpv/Dataset for Crop Pe...</td>\n",
       "      <td>healthy</td>\n",
       "      <td>3</td>\n",
       "    </tr>\n",
       "    <tr>\n",
       "      <th>2</th>\n",
       "      <td>/kaggle/working/bwh3zbpkpv/Dataset for Crop Pe...</td>\n",
       "      <td>healthy</td>\n",
       "      <td>3</td>\n",
       "    </tr>\n",
       "    <tr>\n",
       "      <th>3</th>\n",
       "      <td>/kaggle/working/bwh3zbpkpv/Dataset for Crop Pe...</td>\n",
       "      <td>healthy</td>\n",
       "      <td>3</td>\n",
       "    </tr>\n",
       "    <tr>\n",
       "      <th>4</th>\n",
       "      <td>/kaggle/working/bwh3zbpkpv/Dataset for Crop Pe...</td>\n",
       "      <td>healthy</td>\n",
       "      <td>3</td>\n",
       "    </tr>\n",
       "  </tbody>\n",
       "</table>\n",
       "</div>"
      ],
      "text/plain": [
       "                                           File_Path Class_Name  Class_ID\n",
       "0  /kaggle/working/bwh3zbpkpv/Dataset for Crop Pe...    healthy         3\n",
       "1  /kaggle/working/bwh3zbpkpv/Dataset for Crop Pe...    healthy         3\n",
       "2  /kaggle/working/bwh3zbpkpv/Dataset for Crop Pe...    healthy         3\n",
       "3  /kaggle/working/bwh3zbpkpv/Dataset for Crop Pe...    healthy         3\n",
       "4  /kaggle/working/bwh3zbpkpv/Dataset for Crop Pe...    healthy         3"
      ]
     },
     "execution_count": 17,
     "metadata": {},
     "output_type": "execute_result"
    }
   ],
   "source": [
    "from sklearn.preprocessing import LabelEncoder\n",
    "\n",
    "encoder = LabelEncoder()\n",
    "train_df['Class_ID'] = encoder.fit_transform(train_df['Class_Name'])\n",
    "train_df.head()"
   ]
  },
  {
   "cell_type": "code",
   "execution_count": 18,
   "id": "3488b465-d23e-4ff5-97cd-a59002104547",
   "metadata": {
    "colab": {
     "base_uri": "https://localhost:8080/",
     "height": 272
    },
    "execution": {
     "iopub.execute_input": "2025-07-17T15:40:53.787590Z",
     "iopub.status.busy": "2025-07-17T15:40:53.787375Z",
     "iopub.status.idle": "2025-07-17T15:40:53.797997Z",
     "shell.execute_reply": "2025-07-17T15:40:53.797349Z",
     "shell.execute_reply.started": "2025-07-17T15:40:53.787575Z"
    },
    "id": "3488b465-d23e-4ff5-97cd-a59002104547",
    "outputId": "b6bb6bfb-e19c-45ba-fb09-26879b5ce3a5"
   },
   "outputs": [],
   "source": [
    "#train_df['Class_Name'].value_counts()"
   ]
  },
  {
   "cell_type": "code",
   "execution_count": 19,
   "id": "daf0d40c-a3cb-4c10-b435-fc7e59bbeb7a",
   "metadata": {
    "colab": {
     "base_uri": "https://localhost:8080/",
     "height": 272
    },
    "execution": {
     "iopub.execute_input": "2025-07-17T15:40:53.799186Z",
     "iopub.status.busy": "2025-07-17T15:40:53.798743Z",
     "iopub.status.idle": "2025-07-17T15:40:53.819226Z",
     "shell.execute_reply": "2025-07-17T15:40:53.818621Z",
     "shell.execute_reply.started": "2025-07-17T15:40:53.799170Z"
    },
    "id": "daf0d40c-a3cb-4c10-b435-fc7e59bbeb7a",
    "outputId": "9d4ad270-3b95-4a4f-912f-43ec761866c3"
   },
   "outputs": [
    {
     "data": {
      "text/plain": [
       "Class_ID\n",
       "0    5954\n",
       "1    3250\n",
       "2    3246\n",
       "3    2271\n",
       "4    2250\n",
       "Name: count, dtype: int64"
      ]
     },
     "execution_count": 19,
     "metadata": {},
     "output_type": "execute_result"
    }
   ],
   "source": [
    "train_df['Class_ID'].value_counts()"
   ]
  },
  {
   "cell_type": "raw",
   "id": "8a908db9-ecac-4069-bdfb-36f986c2076f",
   "metadata": {
    "id": "8a908db9-ecac-4069-bdfb-36f986c2076f"
   },
   "source": [
    "# dataset is already augmented so you might want to skip augmenting the dataset"
   ]
  },
  {
   "cell_type": "markdown",
   "id": "e7960418-a9a0-4c4b-8d33-7b5dc113796a",
   "metadata": {
    "id": "e7960418-a9a0-4c4b-8d33-7b5dc113796a"
   },
   "source": [
    "#take a look at the various diseases"
   ]
  },
  {
   "cell_type": "code",
   "execution_count": 20,
   "id": "cce112dd-8675-470a-8713-c70355bdfac5",
   "metadata": {
    "execution": {
     "iopub.execute_input": "2025-07-17T15:40:53.820338Z",
     "iopub.status.busy": "2025-07-17T15:40:53.820105Z",
     "iopub.status.idle": "2025-07-17T15:40:53.827117Z",
     "shell.execute_reply": "2025-07-17T15:40:53.826594Z",
     "shell.execute_reply.started": "2025-07-17T15:40:53.820315Z"
    },
    "id": "cce112dd-8675-470a-8713-c70355bdfac5"
   },
   "outputs": [],
   "source": [
    "\n",
    "#name is the title\n",
    "def plotimage(desired_class: str,name):\n",
    "    desired_class_df = train_df[train_df['Class_Name'] == desired_class]\n",
    "\n",
    "    num_images_to_plot = 4\n",
    "\n",
    "    fig, axes = plt.subplots(1, num_images_to_plot, figsize=(15, 5))\n",
    "\n",
    "    for i, (index, row) in enumerate(desired_class_df.head(num_images_to_plot).iterrows()):\n",
    "        image_path = row['File_Path']\n",
    "        image = load_img(image_path)\n",
    "\n",
    "        axes[i].imshow(image)\n",
    "        axes[i].set_title(f\"Image {i+1}: {name}\")\n",
    "        axes[i].axis('off')\n",
    "\n",
    "    plt.tight_layout()\n",
    "    plt.show()"
   ]
  },
  {
   "cell_type": "code",
   "execution_count": 21,
   "id": "f9b4c38a-9bfd-4801-bc6d-4d1cbb91529e",
   "metadata": {
    "execution": {
     "iopub.execute_input": "2025-07-17T15:40:53.828330Z",
     "iopub.status.busy": "2025-07-17T15:40:53.827988Z",
     "iopub.status.idle": "2025-07-17T15:40:53.840285Z",
     "shell.execute_reply": "2025-07-17T15:40:53.839617Z",
     "shell.execute_reply.started": "2025-07-17T15:40:53.828308Z"
    },
    "id": "f9b4c38a-9bfd-4801-bc6d-4d1cbb91529e"
   },
   "outputs": [],
   "source": [
    "#plotimage('healthy','HEALTHY')"
   ]
  },
  {
   "cell_type": "code",
   "execution_count": 22,
   "id": "31ae8f43-d35b-4585-9023-5a0e56572e29",
   "metadata": {
    "execution": {
     "iopub.execute_input": "2025-07-17T15:40:53.841590Z",
     "iopub.status.busy": "2025-07-17T15:40:53.841129Z",
     "iopub.status.idle": "2025-07-17T15:40:53.853355Z",
     "shell.execute_reply": "2025-07-17T15:40:53.852602Z",
     "shell.execute_reply.started": "2025-07-17T15:40:53.841573Z"
    },
    "id": "31ae8f43-d35b-4585-9023-5a0e56572e29"
   },
   "outputs": [],
   "source": [
    "#plotimage('red rust','RED RUST')"
   ]
  },
  {
   "cell_type": "code",
   "execution_count": 23,
   "id": "00a01dd2-ae80-4351-8b4a-313daa98084f",
   "metadata": {
    "execution": {
     "iopub.execute_input": "2025-07-17T15:40:53.854233Z",
     "iopub.status.busy": "2025-07-17T15:40:53.853971Z",
     "iopub.status.idle": "2025-07-17T15:40:53.865731Z",
     "shell.execute_reply": "2025-07-17T15:40:53.865019Z",
     "shell.execute_reply.started": "2025-07-17T15:40:53.854217Z"
    },
    "id": "00a01dd2-ae80-4351-8b4a-313daa98084f"
   },
   "outputs": [],
   "source": [
    "#plotimage('leaf miner','LEAF MINER')"
   ]
  },
  {
   "cell_type": "code",
   "execution_count": 24,
   "id": "8ffc175c-b17e-400a-85e1-38e781bb2c92",
   "metadata": {
    "execution": {
     "iopub.execute_input": "2025-07-17T15:40:53.866598Z",
     "iopub.status.busy": "2025-07-17T15:40:53.866420Z",
     "iopub.status.idle": "2025-07-17T15:40:53.878360Z",
     "shell.execute_reply": "2025-07-17T15:40:53.877719Z",
     "shell.execute_reply.started": "2025-07-17T15:40:53.866585Z"
    },
    "id": "8ffc175c-b17e-400a-85e1-38e781bb2c92"
   },
   "outputs": [],
   "source": [
    "#plotimage('anthracnose','ANTHRACNOSE')"
   ]
  },
  {
   "cell_type": "code",
   "execution_count": 25,
   "id": "35bd37d3-5ea9-43cb-84b0-0627659c7f62",
   "metadata": {
    "execution": {
     "iopub.execute_input": "2025-07-17T15:40:53.879356Z",
     "iopub.status.busy": "2025-07-17T15:40:53.879037Z",
     "iopub.status.idle": "2025-07-17T15:40:53.892452Z",
     "shell.execute_reply": "2025-07-17T15:40:53.891621Z",
     "shell.execute_reply.started": "2025-07-17T15:40:53.879333Z"
    },
    "id": "35bd37d3-5ea9-43cb-84b0-0627659c7f62"
   },
   "outputs": [],
   "source": [
    "#plotimage('gumosis','GUMOSIS')"
   ]
  },
  {
   "cell_type": "markdown",
   "id": "3ea1af5a-4d8c-4819-bdd7-4a39913859eb",
   "metadata": {
    "id": "3ea1af5a-4d8c-4819-bdd7-4a39913859eb"
   },
   "source": [
    "# xception model"
   ]
  },
  {
   "cell_type": "code",
   "execution_count": 26,
   "id": "3d445aa9-0f06-4636-8be5-8d486a4c1140",
   "metadata": {
    "execution": {
     "iopub.execute_input": "2025-07-17T15:40:53.893286Z",
     "iopub.status.busy": "2025-07-17T15:40:53.893042Z",
     "iopub.status.idle": "2025-07-17T15:40:54.921622Z",
     "shell.execute_reply": "2025-07-17T15:40:54.920937Z",
     "shell.execute_reply.started": "2025-07-17T15:40:53.893261Z"
    },
    "id": "3d445aa9-0f06-4636-8be5-8d486a4c1140"
   },
   "outputs": [
    {
     "name": "stderr",
     "output_type": "stream",
     "text": [
      "I0000 00:00:1752766854.860518      36 gpu_device.cc:2022] Created device /job:localhost/replica:0/task:0/device:GPU:0 with 15513 MB memory:  -> device: 0, name: Tesla P100-PCIE-16GB, pci bus id: 0000:00:04.0, compute capability: 6.0\n"
     ]
    }
   ],
   "source": [
    "opt = tf.keras.optimizers.Adam(learning_rate=1e-4)\n",
    "loss = 'categorical_crossentropy'\n",
    "metrics = ['accuracy']\n",
    "\n",
    "batch_size = 32"
   ]
  },
  {
   "cell_type": "code",
   "execution_count": 27,
   "id": "388efa2e-d35f-475c-9639-244e81f674e6",
   "metadata": {
    "execution": {
     "iopub.execute_input": "2025-07-17T15:40:54.922538Z",
     "iopub.status.busy": "2025-07-17T15:40:54.922291Z",
     "iopub.status.idle": "2025-07-17T15:41:01.818168Z",
     "shell.execute_reply": "2025-07-17T15:41:01.817596Z",
     "shell.execute_reply.started": "2025-07-17T15:40:54.922522Z"
    },
    "id": "388efa2e-d35f-475c-9639-244e81f674e6"
   },
   "outputs": [
    {
     "name": "stdout",
     "output_type": "stream",
     "text": [
      "Downloading data from https://storage.googleapis.com/tensorflow/keras-applications/xception/xception_weights_tf_dim_ordering_tf_kernels_notop.h5\n",
      "\u001b[1m83683744/83683744\u001b[0m \u001b[32m━━━━━━━━━━━━━━━━━━━━\u001b[0m\u001b[37m\u001b[0m \u001b[1m4s\u001b[0m 0us/step\n"
     ]
    }
   ],
   "source": [
    "model1 = Xception(include_top=False,input_shape=(299, 299, 3), weights='imagenet')"
   ]
  },
  {
   "cell_type": "code",
   "execution_count": 28,
   "id": "8802eff1-0a99-4f52-a424-290d0d9cf416",
   "metadata": {
    "execution": {
     "iopub.execute_input": "2025-07-17T15:41:01.819243Z",
     "iopub.status.busy": "2025-07-17T15:41:01.819038Z",
     "iopub.status.idle": "2025-07-17T15:41:01.822693Z",
     "shell.execute_reply": "2025-07-17T15:41:01.822099Z",
     "shell.execute_reply.started": "2025-07-17T15:41:01.819227Z"
    },
    "id": "8802eff1-0a99-4f52-a424-290d0d9cf416"
   },
   "outputs": [],
   "source": [
    "input_shape= (299, 299)"
   ]
  },
  {
   "cell_type": "code",
   "execution_count": 29,
   "id": "ec6921c8-bb5b-4aac-85d6-45adaaad52ed",
   "metadata": {
    "colab": {
     "base_uri": "https://localhost:8080/"
    },
    "execution": {
     "iopub.execute_input": "2025-07-17T15:41:01.823623Z",
     "iopub.status.busy": "2025-07-17T15:41:01.823390Z",
     "iopub.status.idle": "2025-07-17T15:41:05.063241Z",
     "shell.execute_reply": "2025-07-17T15:41:05.062554Z",
     "shell.execute_reply.started": "2025-07-17T15:41:01.823602Z"
    },
    "id": "ec6921c8-bb5b-4aac-85d6-45adaaad52ed",
    "outputId": "789af519-30fd-45ef-8d86-5375610707a3"
   },
   "outputs": [
    {
     "name": "stdout",
     "output_type": "stream",
     "text": [
      "Found 16971 images belonging to 5 classes.\n",
      "Found 7510 images belonging to 5 classes.\n",
      "Found 7510 images belonging to 5 classes.\n"
     ]
    }
   ],
   "source": [
    "\n",
    "datagen_train = ImageDataGenerator(rescale=1./255,\n",
    "                                  width_shift_range=0.2,\n",
    "                                  height_shift_range=0.2,\n",
    "                                  zoom_range=0.2,\n",
    "                                  horizontal_flip=True,\n",
    "                                  vertical_flip=False)\n",
    "\n",
    "\n",
    "datagen_test = ImageDataGenerator(rescale=1./255)\n",
    "datagen_val = ImageDataGenerator(rescale=1./255)\n",
    "\n",
    "\n",
    "generator_train = datagen_train.flow_from_directory(directory=train_dir,\n",
    "                                                    target_size=input_shape,\n",
    "                                                    batch_size=batch_size,\n",
    "                                                    shuffle=True)\n",
    "\n",
    "generator_test = datagen_test.flow_from_directory(directory=test_dir,\n",
    "                                                  target_size=input_shape,\n",
    "                                                  batch_size=batch_size,\n",
    "                                                  shuffle=False)\n",
    "\n",
    "generator_val = datagen_val.flow_from_directory(directory=validation_dir,\n",
    "                                                  target_size=input_shape,\n",
    "                                                  batch_size=batch_size,\n",
    "                                                  shuffle=False)\n"
   ]
  },
  {
   "cell_type": "code",
   "execution_count": 30,
   "id": "9df2bf68-41d6-49ce-99a1-7ad0996b60ff",
   "metadata": {
    "colab": {
     "base_uri": "https://localhost:8080/"
    },
    "execution": {
     "iopub.execute_input": "2025-07-17T15:41:05.069655Z",
     "iopub.status.busy": "2025-07-17T15:41:05.069123Z",
     "iopub.status.idle": "2025-07-17T15:41:06.019541Z",
     "shell.execute_reply": "2025-07-17T15:41:06.018613Z",
     "shell.execute_reply.started": "2025-07-17T15:41:05.069637Z"
    },
    "id": "9df2bf68-41d6-49ce-99a1-7ad0996b60ff",
    "outputId": "b73acc2e-c6bb-4842-c0b1-5e0db144a4d5"
   },
   "outputs": [
    {
     "data": {
      "text/plain": [
       "16971"
      ]
     },
     "execution_count": 30,
     "metadata": {},
     "output_type": "execute_result"
    }
   ],
   "source": [
    "math.ceil(generator_train.samples)"
   ]
  },
  {
   "cell_type": "code",
   "execution_count": 31,
   "id": "21dd4472-d48e-4c6a-822d-9854401cebcb",
   "metadata": {
    "colab": {
     "base_uri": "https://localhost:8080/"
    },
    "execution": {
     "iopub.execute_input": "2025-07-17T15:41:06.020585Z",
     "iopub.status.busy": "2025-07-17T15:41:06.020329Z",
     "iopub.status.idle": "2025-07-17T15:41:06.723165Z",
     "shell.execute_reply": "2025-07-17T15:41:06.722538Z",
     "shell.execute_reply.started": "2025-07-17T15:41:06.020567Z"
    },
    "id": "21dd4472-d48e-4c6a-822d-9854401cebcb",
    "outputId": "a7a00fc5-d37b-44c1-dbd9-dc995f8afb0f"
   },
   "outputs": [
    {
     "data": {
      "text/plain": [
       "array([[0., 0., 1., 0., 0.],\n",
       "       [0., 1., 0., 0., 0.],\n",
       "       [0., 0., 1., 0., 0.],\n",
       "       [1., 0., 0., 0., 0.],\n",
       "       [0., 0., 0., 0., 1.],\n",
       "       [0., 1., 0., 0., 0.],\n",
       "       [1., 0., 0., 0., 0.],\n",
       "       [1., 0., 0., 0., 0.],\n",
       "       [0., 0., 1., 0., 0.],\n",
       "       [1., 0., 0., 0., 0.],\n",
       "       [1., 0., 0., 0., 0.],\n",
       "       [0., 0., 1., 0., 0.],\n",
       "       [0., 0., 0., 0., 1.],\n",
       "       [0., 0., 0., 1., 0.],\n",
       "       [0., 1., 0., 0., 0.],\n",
       "       [0., 0., 1., 0., 0.],\n",
       "       [0., 0., 1., 0., 0.],\n",
       "       [0., 1., 0., 0., 0.],\n",
       "       [0., 0., 0., 0., 1.],\n",
       "       [1., 0., 0., 0., 0.],\n",
       "       [0., 0., 0., 1., 0.],\n",
       "       [0., 0., 0., 1., 0.],\n",
       "       [0., 0., 1., 0., 0.],\n",
       "       [1., 0., 0., 0., 0.],\n",
       "       [1., 0., 0., 0., 0.],\n",
       "       [0., 0., 0., 1., 0.],\n",
       "       [1., 0., 0., 0., 0.],\n",
       "       [1., 0., 0., 0., 0.],\n",
       "       [0., 0., 1., 0., 0.],\n",
       "       [0., 1., 0., 0., 0.],\n",
       "       [1., 0., 0., 0., 0.],\n",
       "       [0., 0., 1., 0., 0.]], dtype=float32)"
      ]
     },
     "execution_count": 31,
     "metadata": {},
     "output_type": "execute_result"
    }
   ],
   "source": [
    "next(generator_train)[1]"
   ]
  },
  {
   "cell_type": "markdown",
   "id": "1d8f916d-8f0b-46a2-848f-8d864f1144ae",
   "metadata": {
    "id": "1d8f916d-8f0b-46a2-848f-8d864f1144ae"
   },
   "source": [
    "# Xception deep network"
   ]
  },
  {
   "cell_type": "code",
   "execution_count": 32,
   "id": "f8c5ee46-a504-4b61-a8e6-4cbd7ea220e2",
   "metadata": {
    "execution": {
     "iopub.execute_input": "2025-07-17T15:41:06.724107Z",
     "iopub.status.busy": "2025-07-17T15:41:06.723913Z",
     "iopub.status.idle": "2025-07-17T15:41:06.735152Z",
     "shell.execute_reply": "2025-07-17T15:41:06.734518Z",
     "shell.execute_reply.started": "2025-07-17T15:41:06.724092Z"
    },
    "id": "f8c5ee46-a504-4b61-a8e6-4cbd7ea220e2"
   },
   "outputs": [],
   "source": [
    "conv_model = Model(inputs=model1.input, outputs=model1.output)"
   ]
  },
  {
   "cell_type": "code",
   "execution_count": 33,
   "id": "e36d608b-e8e1-4b61-b8e8-8ada2a4cf894",
   "metadata": {
    "execution": {
     "iopub.execute_input": "2025-07-17T15:41:06.736459Z",
     "iopub.status.busy": "2025-07-17T15:41:06.736185Z",
     "iopub.status.idle": "2025-07-17T15:41:06.810098Z",
     "shell.execute_reply": "2025-07-17T15:41:06.809598Z",
     "shell.execute_reply.started": "2025-07-17T15:41:06.736437Z"
    },
    "id": "e36d608b-e8e1-4b61-b8e8-8ada2a4cf894"
   },
   "outputs": [],
   "source": [
    "\n",
    "new_model = Sequential()\n",
    "new_model.add(conv_model)\n",
    "new_model.add(Flatten())\n",
    "new_model.add(Dropout(0.5))\n",
    "new_model.add(Dense(512, activation='relu'))\n",
    "new_model.add(Dense(5, activation='softmax'))"
   ]
  },
  {
   "cell_type": "code",
   "execution_count": 34,
   "id": "ebc432a8-bfa7-40ad-8b05-572e17b3288d",
   "metadata": {
    "execution": {
     "iopub.execute_input": "2025-07-17T15:41:06.810989Z",
     "iopub.status.busy": "2025-07-17T15:41:06.810747Z",
     "iopub.status.idle": "2025-07-17T15:41:06.817815Z",
     "shell.execute_reply": "2025-07-17T15:41:06.817292Z",
     "shell.execute_reply.started": "2025-07-17T15:41:06.810966Z"
    },
    "id": "ebc432a8-bfa7-40ad-8b05-572e17b3288d"
   },
   "outputs": [],
   "source": [
    "new_model.compile(optimizer= opt, loss=loss, metrics=metrics)"
   ]
  },
  {
   "cell_type": "code",
   "execution_count": 35,
   "id": "861e1774-aef8-45d9-8780-acf66664cea1",
   "metadata": {
    "colab": {
     "base_uri": "https://localhost:8080/"
    },
    "execution": {
     "iopub.execute_input": "2025-07-17T15:41:06.819391Z",
     "iopub.status.busy": "2025-07-17T15:41:06.818638Z",
     "iopub.status.idle": "2025-07-17T15:41:06.830967Z",
     "shell.execute_reply": "2025-07-17T15:41:06.830278Z",
     "shell.execute_reply.started": "2025-07-17T15:41:06.819362Z"
    },
    "id": "861e1774-aef8-45d9-8780-acf66664cea1",
    "outputId": "ed1f9c84-f1db-45b3-e793-df3954c0bf68"
   },
   "outputs": [
    {
     "name": "stdout",
     "output_type": "stream",
     "text": [
      "Epoch:  10\n",
      "Steps_per_epoch:  531\n",
      "Steps_val:  235\n"
     ]
    }
   ],
   "source": [
    "\n",
    "num_iters = 30000\n",
    "num_batches_train = generator_train.n // batch_size\n",
    "\n",
    "epochs = int(num_iters / num_batches_train)\n",
    "epochs = 10\n",
    "print(\"Epoch: \",epochs)\n",
    "desired_train_accuracy = 0.99\n",
    "\n",
    "#steps_per_epoch = generator_train.n // batch_size\n",
    "#steps_val = generator_val.n // batch_size\n",
    "\n",
    "steps_per_epoch = math.ceil(generator_train.n / batch_size)\n",
    "steps_val = math.ceil(generator_val.n / batch_size)\n",
    "\n",
    "print(\"Steps_per_epoch: \",steps_per_epoch)\n",
    "print(\"Steps_val: \",steps_val)"
   ]
  },
  {
   "cell_type": "markdown",
   "id": "dda4ba36-4884-436f-9918-dbe86885d732",
   "metadata": {},
   "source": [
    "# fit model"
   ]
  },
  {
   "cell_type": "code",
   "execution_count": 36,
   "id": "cf33c97d-40c1-473b-9d41-46e41e73fbe6",
   "metadata": {
    "colab": {
     "base_uri": "https://localhost:8080/"
    },
    "execution": {
     "iopub.execute_input": "2025-07-17T15:41:06.832013Z",
     "iopub.status.busy": "2025-07-17T15:41:06.831788Z",
     "iopub.status.idle": "2025-07-17T16:50:11.995260Z",
     "shell.execute_reply": "2025-07-17T16:50:11.994671Z",
     "shell.execute_reply.started": "2025-07-17T15:41:06.832000Z"
    },
    "id": "cf33c97d-40c1-473b-9d41-46e41e73fbe6",
    "outputId": "f507b158-fe00-408e-af5c-6cc3fba3e6ec"
   },
   "outputs": [
    {
     "name": "stderr",
     "output_type": "stream",
     "text": [
      "/usr/local/lib/python3.11/dist-packages/keras/src/trainers/data_adapters/py_dataset_adapter.py:121: UserWarning: Your `PyDataset` class should call `super().__init__(**kwargs)` in its constructor. `**kwargs` can include `workers`, `use_multiprocessing`, `max_queue_size`. Do not pass these arguments to `fit()`, as they will be ignored.\n",
      "  self._warn_if_super_not_called()\n"
     ]
    },
    {
     "name": "stdout",
     "output_type": "stream",
     "text": [
      "Epoch 1/10\n"
     ]
    },
    {
     "name": "stderr",
     "output_type": "stream",
     "text": [
      "WARNING: All log messages before absl::InitializeLog() is called are written to STDERR\n",
      "I0000 00:00:1752766902.382430      83 service.cc:148] XLA service 0x7b19a4002330 initialized for platform CUDA (this does not guarantee that XLA will be used). Devices:\n",
      "I0000 00:00:1752766902.383210      83 service.cc:156]   StreamExecutor device (0): Tesla P100-PCIE-16GB, Compute Capability 6.0\n",
      "I0000 00:00:1752766905.728160      83 cuda_dnn.cc:529] Loaded cuDNN version 90300\n",
      "E0000 00:00:1752766921.764302      83 gpu_timer.cc:82] Delay kernel timed out: measured time has sub-optimal accuracy. There may be a missing warmup execution, please investigate in Nsight Systems.\n",
      "E0000 00:00:1752766922.002723      83 gpu_timer.cc:82] Delay kernel timed out: measured time has sub-optimal accuracy. There may be a missing warmup execution, please investigate in Nsight Systems.\n",
      "E0000 00:00:1752766923.358131      83 gpu_timer.cc:82] Delay kernel timed out: measured time has sub-optimal accuracy. There may be a missing warmup execution, please investigate in Nsight Systems.\n",
      "E0000 00:00:1752766923.598830      83 gpu_timer.cc:82] Delay kernel timed out: measured time has sub-optimal accuracy. There may be a missing warmup execution, please investigate in Nsight Systems.\n",
      "E0000 00:00:1752766925.172310      83 gpu_timer.cc:82] Delay kernel timed out: measured time has sub-optimal accuracy. There may be a missing warmup execution, please investigate in Nsight Systems.\n",
      "E0000 00:00:1752766925.367763      83 gpu_timer.cc:82] Delay kernel timed out: measured time has sub-optimal accuracy. There may be a missing warmup execution, please investigate in Nsight Systems.\n",
      "E0000 00:00:1752766926.817744      83 gpu_timer.cc:82] Delay kernel timed out: measured time has sub-optimal accuracy. There may be a missing warmup execution, please investigate in Nsight Systems.\n",
      "E0000 00:00:1752766927.017904      83 gpu_timer.cc:82] Delay kernel timed out: measured time has sub-optimal accuracy. There may be a missing warmup execution, please investigate in Nsight Systems.\n",
      "E0000 00:00:1752766927.464510      83 gpu_timer.cc:82] Delay kernel timed out: measured time has sub-optimal accuracy. There may be a missing warmup execution, please investigate in Nsight Systems.\n",
      "E0000 00:00:1752766927.690406      83 gpu_timer.cc:82] Delay kernel timed out: measured time has sub-optimal accuracy. There may be a missing warmup execution, please investigate in Nsight Systems.\n",
      "I0000 00:00:1752766936.505455      83 device_compiler.h:188] Compiled cluster using XLA!  This line is logged at most once for the lifetime of the process.\n"
     ]
    },
    {
     "name": "stdout",
     "output_type": "stream",
     "text": [
      "\u001b[1m264/531\u001b[0m \u001b[32m━━━━━━━━━\u001b[0m\u001b[37m━━━━━━━━━━━\u001b[0m \u001b[1m3:03\u001b[0m 686ms/step - accuracy: 0.6484 - loss: 1.1558"
     ]
    },
    {
     "name": "stderr",
     "output_type": "stream",
     "text": [
      "E0000 00:00:1752767126.940594      85 gpu_timer.cc:82] Delay kernel timed out: measured time has sub-optimal accuracy. There may be a missing warmup execution, please investigate in Nsight Systems.\n",
      "E0000 00:00:1752767127.140141      85 gpu_timer.cc:82] Delay kernel timed out: measured time has sub-optimal accuracy. There may be a missing warmup execution, please investigate in Nsight Systems.\n",
      "E0000 00:00:1752767128.084477      85 gpu_timer.cc:82] Delay kernel timed out: measured time has sub-optimal accuracy. There may be a missing warmup execution, please investigate in Nsight Systems.\n",
      "E0000 00:00:1752767128.308646      85 gpu_timer.cc:82] Delay kernel timed out: measured time has sub-optimal accuracy. There may be a missing warmup execution, please investigate in Nsight Systems.\n",
      "E0000 00:00:1752767129.079838      85 gpu_timer.cc:82] Delay kernel timed out: measured time has sub-optimal accuracy. There may be a missing warmup execution, please investigate in Nsight Systems.\n",
      "E0000 00:00:1752767129.267968      85 gpu_timer.cc:82] Delay kernel timed out: measured time has sub-optimal accuracy. There may be a missing warmup execution, please investigate in Nsight Systems.\n",
      "E0000 00:00:1752767130.023148      85 gpu_timer.cc:82] Delay kernel timed out: measured time has sub-optimal accuracy. There may be a missing warmup execution, please investigate in Nsight Systems.\n",
      "E0000 00:00:1752767130.222148      85 gpu_timer.cc:82] Delay kernel timed out: measured time has sub-optimal accuracy. There may be a missing warmup execution, please investigate in Nsight Systems.\n",
      "E0000 00:00:1752767130.599994      85 gpu_timer.cc:82] Delay kernel timed out: measured time has sub-optimal accuracy. There may be a missing warmup execution, please investigate in Nsight Systems.\n",
      "E0000 00:00:1752767130.823667      85 gpu_timer.cc:82] Delay kernel timed out: measured time has sub-optimal accuracy. There may be a missing warmup execution, please investigate in Nsight Systems.\n"
     ]
    },
    {
     "name": "stdout",
     "output_type": "stream",
     "text": [
      "\u001b[1m531/531\u001b[0m \u001b[32m━━━━━━━━━━━━━━━━━━━━\u001b[0m\u001b[37m\u001b[0m \u001b[1m0s\u001b[0m 729ms/step - accuracy: 0.7362 - loss: 0.8279"
     ]
    },
    {
     "name": "stderr",
     "output_type": "stream",
     "text": [
      "E0000 00:00:1752767359.597058      85 gpu_timer.cc:82] Delay kernel timed out: measured time has sub-optimal accuracy. There may be a missing warmup execution, please investigate in Nsight Systems.\n",
      "E0000 00:00:1752767359.834787      85 gpu_timer.cc:82] Delay kernel timed out: measured time has sub-optimal accuracy. There may be a missing warmup execution, please investigate in Nsight Systems.\n",
      "E0000 00:00:1752767360.423502      85 gpu_timer.cc:82] Delay kernel timed out: measured time has sub-optimal accuracy. There may be a missing warmup execution, please investigate in Nsight Systems.\n",
      "E0000 00:00:1752767360.685848      85 gpu_timer.cc:82] Delay kernel timed out: measured time has sub-optimal accuracy. There may be a missing warmup execution, please investigate in Nsight Systems.\n"
     ]
    },
    {
     "name": "stdout",
     "output_type": "stream",
     "text": [
      "\u001b[1m531/531\u001b[0m \u001b[32m━━━━━━━━━━━━━━━━━━━━\u001b[0m\u001b[37m\u001b[0m \u001b[1m504s\u001b[0m 822ms/step - accuracy: 0.7364 - loss: 0.8272 - val_accuracy: 0.9216 - val_loss: 0.2342\n",
      "Epoch 2/10\n",
      "\u001b[1m531/531\u001b[0m \u001b[32m━━━━━━━━━━━━━━━━━━━━\u001b[0m\u001b[37m\u001b[0m \u001b[1m412s\u001b[0m 775ms/step - accuracy: 0.9329 - loss: 0.1845 - val_accuracy: 0.9350 - val_loss: 0.2152\n",
      "Epoch 3/10\n",
      "\u001b[1m531/531\u001b[0m \u001b[32m━━━━━━━━━━━━━━━━━━━━\u001b[0m\u001b[37m\u001b[0m \u001b[1m411s\u001b[0m 773ms/step - accuracy: 0.9568 - loss: 0.1262 - val_accuracy: 0.9475 - val_loss: 0.1778\n",
      "Epoch 4/10\n",
      "\u001b[1m531/531\u001b[0m \u001b[32m━━━━━━━━━━━━━━━━━━━━\u001b[0m\u001b[37m\u001b[0m \u001b[1m408s\u001b[0m 767ms/step - accuracy: 0.9648 - loss: 0.0974 - val_accuracy: 0.9511 - val_loss: 0.1871\n",
      "Epoch 5/10\n",
      "\u001b[1m531/531\u001b[0m \u001b[32m━━━━━━━━━━━━━━━━━━━━\u001b[0m\u001b[37m\u001b[0m \u001b[1m410s\u001b[0m 772ms/step - accuracy: 0.9785 - loss: 0.0665 - val_accuracy: 0.9579 - val_loss: 0.1918\n",
      "Epoch 6/10\n",
      "\u001b[1m531/531\u001b[0m \u001b[32m━━━━━━━━━━━━━━━━━━━━\u001b[0m\u001b[37m\u001b[0m \u001b[1m400s\u001b[0m 753ms/step - accuracy: 0.9743 - loss: 0.0702 - val_accuracy: 0.9546 - val_loss: 0.2033\n",
      "Epoch 7/10\n",
      "\u001b[1m531/531\u001b[0m \u001b[32m━━━━━━━━━━━━━━━━━━━━\u001b[0m\u001b[37m\u001b[0m \u001b[1m394s\u001b[0m 742ms/step - accuracy: 0.9794 - loss: 0.0610 - val_accuracy: 0.9523 - val_loss: 0.2312\n",
      "Epoch 8/10\n",
      "\u001b[1m531/531\u001b[0m \u001b[32m━━━━━━━━━━━━━━━━━━━━\u001b[0m\u001b[37m\u001b[0m \u001b[1m400s\u001b[0m 753ms/step - accuracy: 0.9870 - loss: 0.0433 - val_accuracy: 0.9578 - val_loss: 0.2140\n",
      "Epoch 9/10\n",
      "\u001b[1m531/531\u001b[0m \u001b[32m━━━━━━━━━━━━━━━━━━━━\u001b[0m\u001b[37m\u001b[0m \u001b[1m406s\u001b[0m 763ms/step - accuracy: 0.9831 - loss: 0.0533 - val_accuracy: 0.9583 - val_loss: 0.2314\n",
      "Epoch 10/10\n",
      "\u001b[1m531/531\u001b[0m \u001b[32m━━━━━━━━━━━━━━━━━━━━\u001b[0m\u001b[37m\u001b[0m \u001b[1m399s\u001b[0m 751ms/step - accuracy: 0.9872 - loss: 0.0389 - val_accuracy: 0.9570 - val_loss: 0.2152\n"
     ]
    }
   ],
   "source": [
    "\n",
    "Checkpoint = ModelCheckpoint(\"xception_cassava.keras\", monitor=\"val_accuracy\", save_best_only=True, mode=\"max\")\n",
    "#EarlyStop = EarlyStopping(monitor=\"val_accuracy\", baseline=desired_train_accuracy, patience=10, restore_best_weights=True, mode=\"auto\")\n",
    "EarlyStop = EarlyStopping(monitor=\"val_accuracy\", patience=10, restore_best_weights=True,mode=\"auto\")\n",
    "history = new_model.fit(generator_train,\n",
    "                        epochs=epochs,\n",
    "                        callbacks=[Checkpoint, EarlyStop],\n",
    "                        steps_per_epoch=steps_per_epoch,\n",
    "                        validation_data=generator_val,\n",
    "                        validation_steps=steps_val)\n"
   ]
  },
  {
   "cell_type": "code",
   "execution_count": 37,
   "id": "5126819b-863e-40fb-afea-5107fd8e411b",
   "metadata": {
    "execution": {
     "iopub.execute_input": "2025-07-17T16:50:11.996462Z",
     "iopub.status.busy": "2025-07-17T16:50:11.996190Z",
     "iopub.status.idle": "2025-07-17T16:50:11.999910Z",
     "shell.execute_reply": "2025-07-17T16:50:11.999128Z",
     "shell.execute_reply.started": "2025-07-17T16:50:11.996444Z"
    },
    "id": "5126819b-863e-40fb-afea-5107fd8e411b"
   },
   "outputs": [],
   "source": [
    "# save exception model"
   ]
  },
  {
   "cell_type": "code",
   "execution_count": 38,
   "id": "100b56da-9fc6-40e2-8904-64c826398a4c",
   "metadata": {
    "execution": {
     "iopub.execute_input": "2025-07-17T16:50:12.000907Z",
     "iopub.status.busy": "2025-07-17T16:50:12.000669Z",
     "iopub.status.idle": "2025-07-17T16:50:12.226043Z",
     "shell.execute_reply": "2025-07-17T16:50:12.225553Z",
     "shell.execute_reply.started": "2025-07-17T16:50:12.000892Z"
    },
    "id": "100b56da-9fc6-40e2-8904-64c826398a4c",
    "outputId": "016b32d7-ce43-4d8f-de8a-c944e61f874c"
   },
   "outputs": [],
   "source": [
    "# Delete the big zip file (if already extracted)\n",
    "import os\n",
    "os.remove('/kaggle/working/bwh3zbpkpv-1.zip')"
   ]
  },
  {
   "cell_type": "code",
   "execution_count": 39,
   "id": "55a7413d-5e63-48e1-b682-462c62f25c2c",
   "metadata": {
    "execution": {
     "iopub.execute_input": "2025-07-17T16:50:12.227002Z",
     "iopub.status.busy": "2025-07-17T16:50:12.226749Z",
     "iopub.status.idle": "2025-07-17T16:50:12.231890Z",
     "shell.execute_reply": "2025-07-17T16:50:12.231265Z",
     "shell.execute_reply.started": "2025-07-17T16:50:12.226981Z"
    },
    "id": "55a7413d-5e63-48e1-b682-462c62f25c2c",
    "outputId": "ccece1f5-0039-4ecd-e32f-17ecf7f010b8"
   },
   "outputs": [
    {
     "name": "stdout",
     "output_type": "stream",
     "text": [
      "['bwh3zbpkpv', '.virtual_documents', 'xception_cassava.keras']\n"
     ]
    }
   ],
   "source": [
    "import os\n",
    "\n",
    "print(os.listdir('/kaggle/working'))\n"
   ]
  },
  {
   "cell_type": "code",
   "execution_count": 40,
   "id": "009ed896-08a3-4cb2-8cf6-0a169b325731",
   "metadata": {
    "execution": {
     "iopub.execute_input": "2025-07-17T16:50:12.232720Z",
     "iopub.status.busy": "2025-07-17T16:50:12.232506Z",
     "iopub.status.idle": "2025-07-17T16:50:16.574764Z",
     "shell.execute_reply": "2025-07-17T16:50:16.574159Z",
     "shell.execute_reply.started": "2025-07-17T16:50:12.232705Z"
    },
    "id": "009ed896-08a3-4cb2-8cf6-0a169b325731"
   },
   "outputs": [],
   "source": [
    "new_model.save('/kaggle/working/my_model.h5')"
   ]
  },
  {
   "cell_type": "code",
   "execution_count": 41,
   "id": "416486a8-a395-42ab-8522-6d80a8573205",
   "metadata": {
    "execution": {
     "iopub.execute_input": "2025-07-17T16:50:16.575837Z",
     "iopub.status.busy": "2025-07-17T16:50:16.575623Z",
     "iopub.status.idle": "2025-07-17T16:50:16.579935Z",
     "shell.execute_reply": "2025-07-17T16:50:16.579368Z",
     "shell.execute_reply.started": "2025-07-17T16:50:16.575821Z"
    },
    "id": "416486a8-a395-42ab-8522-6d80a8573205",
    "outputId": "9281d7a0-15ca-4048-99f8-3ae094a3e3ec"
   },
   "outputs": [
    {
     "name": "stdout",
     "output_type": "stream",
     "text": [
      "['bwh3zbpkpv', '.virtual_documents', 'xception_cassava.keras', 'my_model.h5']\n"
     ]
    }
   ],
   "source": [
    "import os\n",
    "\n",
    "print(os.listdir('/kaggle/working'))\n"
   ]
  },
  {
   "cell_type": "code",
   "execution_count": 42,
   "id": "cc92286c-808e-4ea5-8251-abad77750330",
   "metadata": {
    "execution": {
     "iopub.execute_input": "2025-07-17T16:50:16.580767Z",
     "iopub.status.busy": "2025-07-17T16:50:16.580560Z",
     "iopub.status.idle": "2025-07-17T16:50:16.594622Z",
     "shell.execute_reply": "2025-07-17T16:50:16.594026Z",
     "shell.execute_reply.started": "2025-07-17T16:50:16.580752Z"
    },
    "id": "cc92286c-808e-4ea5-8251-abad77750330",
    "outputId": "b8a4363c-9ba5-4797-dc4c-9a2a8df67eb4"
   },
   "outputs": [
    {
     "data": {
      "text/html": [
       "<a href='/kaggle/working/my_model.h5' target='_blank'>/kaggle/working/my_model.h5</a><br>"
      ],
      "text/plain": [
       "/kaggle/working/my_model.h5"
      ]
     },
     "execution_count": 42,
     "metadata": {},
     "output_type": "execute_result"
    }
   ],
   "source": [
    "from IPython.display import FileLink\n",
    "\n",
    "FileLink('/kaggle/working/my_model.h5')"
   ]
  },
  {
   "cell_type": "code",
   "execution_count": 43,
   "id": "942608d3-b64f-4a4e-b3ed-b901aa14b85b",
   "metadata": {
    "execution": {
     "iopub.execute_input": "2025-07-17T16:50:16.595598Z",
     "iopub.status.busy": "2025-07-17T16:50:16.595398Z",
     "iopub.status.idle": "2025-07-17T16:51:38.056611Z",
     "shell.execute_reply": "2025-07-17T16:51:38.055975Z",
     "shell.execute_reply.started": "2025-07-17T16:50:16.595576Z"
    },
    "id": "942608d3-b64f-4a4e-b3ed-b901aa14b85b",
    "outputId": "d4597314-7f07-4892-beac-416e3b87e368"
   },
   "outputs": [
    {
     "data": {
      "text/plain": [
       "'/kaggle/working/my_model.zip'"
      ]
     },
     "execution_count": 43,
     "metadata": {},
     "output_type": "execute_result"
    }
   ],
   "source": [
    "import shutil\n",
    "\n",
    "shutil.make_archive('/kaggle/working/my_model', 'zip', '/kaggle/working', 'my_model.h5')\n"
   ]
  },
  {
   "cell_type": "code",
   "execution_count": 44,
   "id": "f5bf3590-f511-4b4e-b23e-9a3b97a86078",
   "metadata": {
    "execution": {
     "iopub.execute_input": "2025-07-17T16:51:38.057454Z",
     "iopub.status.busy": "2025-07-17T16:51:38.057240Z",
     "iopub.status.idle": "2025-07-17T16:51:38.061946Z",
     "shell.execute_reply": "2025-07-17T16:51:38.061438Z",
     "shell.execute_reply.started": "2025-07-17T16:51:38.057440Z"
    }
   },
   "outputs": [
    {
     "data": {
      "text/plain": [
       "'/kaggle/working/xception_cassava.keras'"
      ]
     },
     "execution_count": 44,
     "metadata": {},
     "output_type": "execute_result"
    }
   ],
   "source": [
    "import shutil\n",
    "\n",
    "shutil.move(\"xception_cassava.keras\", \"/kaggle/working/xception_cassava.keras\")"
   ]
  },
  {
   "cell_type": "code",
   "execution_count": 45,
   "id": "0df5a958-1813-42b2-97e4-b22b622d3637",
   "metadata": {
    "execution": {
     "iopub.execute_input": "2025-07-17T16:51:38.062804Z",
     "iopub.status.busy": "2025-07-17T16:51:38.062619Z",
     "iopub.status.idle": "2025-07-17T16:52:59.962040Z",
     "shell.execute_reply": "2025-07-17T16:52:59.961158Z",
     "shell.execute_reply.started": "2025-07-17T16:51:38.062790Z"
    },
    "id": "0df5a958-1813-42b2-97e4-b22b622d3637",
    "outputId": "ba43270c-e9f0-4dec-86d8-6380ea3784c4"
   },
   "outputs": [
    {
     "data": {
      "text/plain": [
       "'/kaggle/working/my_model.zip'"
      ]
     },
     "execution_count": 45,
     "metadata": {},
     "output_type": "execute_result"
    }
   ],
   "source": [
    "\n",
    "\n",
    "# Now try again:\n",
    "import shutil\n",
    "shutil.make_archive('/kaggle/working/my_model', 'zip', '/kaggle/working', 'my_model.h5')\n"
   ]
  },
  {
   "cell_type": "code",
   "execution_count": 46,
   "id": "53b644bb-4c1d-4743-97e2-f4f60bc2a19d",
   "metadata": {
    "execution": {
     "iopub.execute_input": "2025-07-17T16:52:59.963073Z",
     "iopub.status.busy": "2025-07-17T16:52:59.962782Z",
     "iopub.status.idle": "2025-07-17T16:52:59.971064Z",
     "shell.execute_reply": "2025-07-17T16:52:59.970033Z",
     "shell.execute_reply.started": "2025-07-17T16:52:59.963049Z"
    },
    "id": "53b644bb-4c1d-4743-97e2-f4f60bc2a19d"
   },
   "outputs": [
    {
     "data": {
      "text/plain": [
       "\"\\ndef plot_training(history):\\n    plt.figure(figsize=(12, 4))\\n\\n    plt.subplot(1, 2, 1)\\n    plt.plot(new_model.history.history['accuracy'], label='Train Accuracy')\\n    plt.plot(new_model.history.history['val_accuracy'], label='Validation Accuracy')\\n    plt.axhline(0.99, color='red', linestyle='--', alpha=0.5, label='99% Target')\\n    plt.title('Accuracy Progress')\\n    plt.legend()\\n\\n    plt.subplot(1, 2, 2)\\n    plt.plot(new_model.history.history['loss'], label='Train Loss')\\n    plt.plot(new_model.history.history['val_loss'], label='Validation Loss')\\n    plt.title('Loss Progress')\\n    plt.legend()\\n\\n    plt.tight_layout()\\n    plt.show()\\n\\n# Call this after each epoch\\nclass PlotCallback(Callback):\\n    def on_epoch_end(self, epoch, logs=None):\\n        plot_training(history)\\n        \""
      ]
     },
     "execution_count": 46,
     "metadata": {},
     "output_type": "execute_result"
    }
   ],
   "source": [
    "'''\n",
    "def plot_training(history):\n",
    "    plt.figure(figsize=(12, 4))\n",
    "\n",
    "    plt.subplot(1, 2, 1)\n",
    "    plt.plot(new_model.history.history['accuracy'], label='Train Accuracy')\n",
    "    plt.plot(new_model.history.history['val_accuracy'], label='Validation Accuracy')\n",
    "    plt.axhline(0.99, color='red', linestyle='--', alpha=0.5, label='99% Target')\n",
    "    plt.title('Accuracy Progress')\n",
    "    plt.legend()\n",
    "\n",
    "    plt.subplot(1, 2, 2)\n",
    "    plt.plot(new_model.history.history['loss'], label='Train Loss')\n",
    "    plt.plot(new_model.history.history['val_loss'], label='Validation Loss')\n",
    "    plt.title('Loss Progress')\n",
    "    plt.legend()\n",
    "\n",
    "    plt.tight_layout()\n",
    "    plt.show()\n",
    "\n",
    "# Call this after each epoch\n",
    "class PlotCallback(Callback):\n",
    "    def on_epoch_end(self, epoch, logs=None):\n",
    "        plot_training(history)\n",
    "        '''"
   ]
  },
  {
   "cell_type": "code",
   "execution_count": 47,
   "id": "ea1d823c-153f-415b-a7c0-8869fa3eefde",
   "metadata": {
    "execution": {
     "iopub.execute_input": "2025-07-17T16:52:59.972640Z",
     "iopub.status.busy": "2025-07-17T16:52:59.972219Z",
     "iopub.status.idle": "2025-07-17T16:53:01.976463Z",
     "shell.execute_reply": "2025-07-17T16:53:01.975902Z",
     "shell.execute_reply.started": "2025-07-17T16:52:59.972614Z"
    },
    "id": "ea1d823c-153f-415b-a7c0-8869fa3eefde"
   },
   "outputs": [],
   "source": [
    "from tensorflow.keras.models import load_model\n",
    "\n",
    "# Load your saved model\n",
    "model = load_model('/kaggle/working/my_model.h5')"
   ]
  },
  {
   "cell_type": "code",
   "execution_count": 48,
   "id": "94473900-1a82-4e42-a882-019e33328238",
   "metadata": {
    "execution": {
     "iopub.execute_input": "2025-07-17T16:53:01.977466Z",
     "iopub.status.busy": "2025-07-17T16:53:01.977202Z",
     "iopub.status.idle": "2025-07-17T16:53:01.982375Z",
     "shell.execute_reply": "2025-07-17T16:53:01.981758Z",
     "shell.execute_reply.started": "2025-07-17T16:53:01.977448Z"
    },
    "id": "94473900-1a82-4e42-a882-019e33328238"
   },
   "outputs": [],
   "source": [
    "import numpy as np\n",
    "from tensorflow.keras.preprocessing import image\n",
    "from tensorflow.keras.applications.xception import preprocess_input\n",
    "\n",
    "def predict_image_class(img_path):\n",
    "    # Load and resize image\n",
    "    img = image.load_img(img_path, target_size=(299, 299))\n",
    "\n",
    "    # Convert to array and preprocess\n",
    "    img_array = image.img_to_array(img)\n",
    "    img_array = np.expand_dims(img_array, axis=0)\n",
    "    img_array = preprocess_input(img_array)\n",
    "\n",
    "    # Make prediction\n",
    "    predictions = model.predict(img_array)\n",
    "    predicted_class = np.argmax(predictions, axis=1)[0]\n",
    "    confidence = np.max(predictions)\n",
    "\n",
    "    return predicted_class, confidence"
   ]
  },
  {
   "cell_type": "code",
   "execution_count": 49,
   "id": "59c833e7-f298-4faa-8554-7cf27a1b049b",
   "metadata": {
    "execution": {
     "iopub.execute_input": "2025-07-17T16:53:01.983215Z",
     "iopub.status.busy": "2025-07-17T16:53:01.983054Z",
     "iopub.status.idle": "2025-07-17T16:53:01.996996Z",
     "shell.execute_reply": "2025-07-17T16:53:01.996296Z",
     "shell.execute_reply.started": "2025-07-17T16:53:01.983202Z"
    },
    "id": "59c833e7-f298-4faa-8554-7cf27a1b049b",
    "outputId": "9231094d-971b-4408-c373-e2f13db19857"
   },
   "outputs": [
    {
     "name": "stdout",
     "output_type": "stream",
     "text": [
      "Class Mapping:\n",
      "0: bacterial blight\n",
      "1: brown spot\n",
      "2: green mite\n",
      "3: healthy\n",
      "4: mosaic\n"
     ]
    }
   ],
   "source": [
    "# Get class names from your validation generator\n",
    "class_names = list(generator_val.class_indices.keys())\n",
    "class_mapping = {i: name for i, name in enumerate(class_names)}\n",
    "\n",
    "print(\"Class Mapping:\")\n",
    "for idx, name in class_mapping.items():\n",
    "    print(f\"{idx}: {name}\")"
   ]
  },
  {
   "cell_type": "code",
   "execution_count": 50,
   "id": "98aae3b2-962d-467c-86f9-feb6fb7507d5",
   "metadata": {
    "execution": {
     "iopub.execute_input": "2025-07-17T16:53:01.997855Z",
     "iopub.status.busy": "2025-07-17T16:53:01.997687Z",
     "iopub.status.idle": "2025-07-17T16:53:02.023468Z",
     "shell.execute_reply": "2025-07-17T16:53:02.022753Z",
     "shell.execute_reply.started": "2025-07-17T16:53:01.997842Z"
    },
    "id": "98aae3b2-962d-467c-86f9-feb6fb7507d5"
   },
   "outputs": [],
   "source": [
    "import os\n",
    "import random\n",
    "from glob import glob\n",
    "\n",
    "# Get all image paths from raw data directory\n",
    "all_images = []\n",
    "for root, dirs, files in os.walk(validation_dir):\n",
    "    for file in files:\n",
    "        if file.lower().endswith(('.png', '.jpg', '.jpeg')):\n",
    "            all_images.append(os.path.join(root, file))\n",
    "\n",
    "# Select random images\n",
    "num_samples = 8\n",
    "sample_images = random.sample(all_images, num_samples)"
   ]
  },
  {
   "cell_type": "code",
   "execution_count": 51,
   "id": "c180bfd9-eb6d-4dec-ab85-b084e2242fb0",
   "metadata": {
    "execution": {
     "iopub.execute_input": "2025-07-17T16:53:02.024690Z",
     "iopub.status.busy": "2025-07-17T16:53:02.024237Z",
     "iopub.status.idle": "2025-07-17T16:53:02.028911Z",
     "shell.execute_reply": "2025-07-17T16:53:02.028240Z",
     "shell.execute_reply.started": "2025-07-17T16:53:02.024673Z"
    },
    "id": "c180bfd9-eb6d-4dec-ab85-b084e2242fb0"
   },
   "outputs": [
    {
     "data": {
      "text/plain": [
       "'\\nimport matplotlib.pyplot as plt\\n\\nplt.figure(figsize=(15, 10))\\nfor i, img_path in enumerate(sample_images):\\n    # Get true class from directory structure\\n    true_class = img_path.split(\\'/\\')[-2]\\n\\n    # Predict\\n    pred_class_idx, confidence = predict_image_class(img_path)\\n    pred_class = class_mapping[pred_class_idx]\\n\\n    # Plot\\n    img = image.load_img(img_path)\\n    plt.subplot(2, 4, i+1)\\n    plt.imshow(img)\\n    plt.title(f\"True: {true_class}\\nPred: {pred_class}\\nConf: {confidence:.2f}\")\\n    plt.axis(\\'off\\')\\n\\n    # Highlight incorrect predictions in red\\n    if true_class != pred_class:\\n        plt.gca().set_title(f\"True: {true_class}\\nPred: {pred_class}\\nConf: {confidence:.2f}\",\\n                            color=\\'red\\')\\n\\nplt.tight_layout()\\nplt.show()\\n'"
      ]
     },
     "execution_count": 51,
     "metadata": {},
     "output_type": "execute_result"
    }
   ],
   "source": [
    "'''\n",
    "import matplotlib.pyplot as plt\n",
    "\n",
    "plt.figure(figsize=(15, 10))\n",
    "for i, img_path in enumerate(sample_images):\n",
    "    # Get true class from directory structure\n",
    "    true_class = img_path.split('/')[-2]\n",
    "\n",
    "    # Predict\n",
    "    pred_class_idx, confidence = predict_image_class(img_path)\n",
    "    pred_class = class_mapping[pred_class_idx]\n",
    "\n",
    "    # Plot\n",
    "    img = image.load_img(img_path)\n",
    "    plt.subplot(2, 4, i+1)\n",
    "    plt.imshow(img)\n",
    "    plt.title(f\"True: {true_class}\\nPred: {pred_class}\\nConf: {confidence:.2f}\")\n",
    "    plt.axis('off')\n",
    "\n",
    "    # Highlight incorrect predictions in red\n",
    "    if true_class != pred_class:\n",
    "        plt.gca().set_title(f\"True: {true_class}\\nPred: {pred_class}\\nConf: {confidence:.2f}\",\n",
    "                            color='red')\n",
    "\n",
    "plt.tight_layout()\n",
    "plt.show()\n",
    "'''"
   ]
  },
  {
   "cell_type": "code",
   "execution_count": 52,
   "id": "0382edb4-a65a-4d57-ba3b-2475e67111e9",
   "metadata": {
    "execution": {
     "iopub.execute_input": "2025-07-17T16:53:02.029802Z",
     "iopub.status.busy": "2025-07-17T16:53:02.029601Z",
     "iopub.status.idle": "2025-07-17T16:53:02.041776Z",
     "shell.execute_reply": "2025-07-17T16:53:02.041287Z",
     "shell.execute_reply.started": "2025-07-17T16:53:02.029781Z"
    },
    "id": "0382edb4-a65a-4d57-ba3b-2475e67111e9"
   },
   "outputs": [
    {
     "data": {
      "text/plain": [
       "\"'from sklearn.metrics import classification_report\\n\\n# Get all validation images\\nall_val_images = []\\ntrue_labels = []\\nfor root, dirs, files in os.walk(validation_dir):\\n    for file in files:\\n        if file.lower().endswith(('.png', '.jpg', '.jpeg')):\\n            all_val_images.append(os.path.join(root, file))\\n            true_labels.append(os.path.basename(root))\\n\\n# Predict all\\npred_labels = []\\nfor img_path in all_val_images:\\n    pred_class_idx, _ = predict_image_class(img_path)\\n    pred_labels.append(class_mapping[pred_class_idx])\\n\\n# Classification report\\nprint(classification_report(true_labels, pred_labels, target_names=class_names))\\n\""
      ]
     },
     "execution_count": 52,
     "metadata": {},
     "output_type": "execute_result"
    }
   ],
   "source": [
    "''''from sklearn.metrics import classification_report\n",
    "\n",
    "# Get all validation images\n",
    "all_val_images = []\n",
    "true_labels = []\n",
    "for root, dirs, files in os.walk(validation_dir):\n",
    "    for file in files:\n",
    "        if file.lower().endswith(('.png', '.jpg', '.jpeg')):\n",
    "            all_val_images.append(os.path.join(root, file))\n",
    "            true_labels.append(os.path.basename(root))\n",
    "\n",
    "# Predict all\n",
    "pred_labels = []\n",
    "for img_path in all_val_images:\n",
    "    pred_class_idx, _ = predict_image_class(img_path)\n",
    "    pred_labels.append(class_mapping[pred_class_idx])\n",
    "\n",
    "# Classification report\n",
    "print(classification_report(true_labels, pred_labels, target_names=class_names))\n",
    "'''"
   ]
  },
  {
   "cell_type": "code",
   "execution_count": 57,
   "id": "9b2e8402-edf3-4257-8708-2a31f16dfb59",
   "metadata": {
    "execution": {
     "iopub.execute_input": "2025-07-17T16:55:44.610494Z",
     "iopub.status.busy": "2025-07-17T16:55:44.610177Z",
     "iopub.status.idle": "2025-07-17T16:55:44.615428Z",
     "shell.execute_reply": "2025-07-17T16:55:44.614635Z",
     "shell.execute_reply.started": "2025-07-17T16:55:44.610475Z"
    },
    "id": "9b2e8402-edf3-4257-8708-2a31f16dfb59"
   },
   "outputs": [
    {
     "data": {
      "text/html": [
       "<a href='xception_cassava.keras' target='_blank'>xception_cassava.keras</a><br>"
      ],
      "text/plain": [
       "/kaggle/working/xception_cassava.keras"
      ]
     },
     "execution_count": 57,
     "metadata": {},
     "output_type": "execute_result"
    }
   ],
   "source": [
    "#FileLink('my_model.zip')\n",
    "FileLink('xception_cassava.keras')\n"
   ]
  },
  {
   "cell_type": "code",
   "execution_count": 54,
   "id": "e3e010c6-6d64-495e-a28d-da98fd23f3b3",
   "metadata": {
    "execution": {
     "iopub.execute_input": "2025-07-17T16:53:02.055822Z",
     "iopub.status.busy": "2025-07-17T16:53:02.055566Z",
     "iopub.status.idle": "2025-07-17T16:53:06.489024Z",
     "shell.execute_reply": "2025-07-17T16:53:06.488309Z",
     "shell.execute_reply.started": "2025-07-17T16:53:02.055808Z"
    }
   },
   "outputs": [],
   "source": [
    "import shutil\n",
    "\n",
    "shutil.rmtree('/kaggle/working/bwh3zbpkpv')\n"
   ]
  },
  {
   "cell_type": "code",
   "execution_count": null,
   "id": "b024a165-7276-4722-8b54-c12d01393287",
   "metadata": {},
   "outputs": [],
   "source": []
  },
  {
   "cell_type": "code",
   "execution_count": null,
   "id": "3c776595-43f9-48e2-8a55-437ea9d28941",
   "metadata": {},
   "outputs": [],
   "source": []
  }
 ],
 "metadata": {
  "colab": {
   "provenance": []
  },
  "kaggle": {
   "accelerator": "gpu",
   "dataSources": [],
   "dockerImageVersionId": 31090,
   "isGpuEnabled": true,
   "isInternetEnabled": true,
   "language": "python",
   "sourceType": "notebook"
  },
  "kernelspec": {
   "display_name": "Python [conda env:base] *",
   "language": "python",
   "name": "conda-base-py"
  },
  "language_info": {
   "codemirror_mode": {
    "name": "ipython",
    "version": 3
   },
   "file_extension": ".py",
   "mimetype": "text/x-python",
   "name": "python",
   "nbconvert_exporter": "python",
   "pygments_lexer": "ipython3",
   "version": "3.12.2"
  }
 },
 "nbformat": 4,
 "nbformat_minor": 5
}
