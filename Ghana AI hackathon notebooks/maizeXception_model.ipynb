{
 "cells": [
  {
   "cell_type": "code",
   "execution_count": 2,
   "id": "4d161d05-4880-42d1-8ace-920a3c934134",
   "metadata": {
    "execution": {
     "iopub.execute_input": "2025-07-16T18:01:39.767151Z",
     "iopub.status.busy": "2025-07-16T18:01:39.766938Z",
     "iopub.status.idle": "2025-07-16T18:01:56.128365Z",
     "shell.execute_reply": "2025-07-16T18:01:56.127569Z",
     "shell.execute_reply.started": "2025-07-16T18:01:39.767113Z"
    },
    "id": "4d161d05-4880-42d1-8ace-920a3c934134",
    "outputId": "ed4a4047-3349-40f0-e702-13215d38d6c6"
   },
   "outputs": [
    {
     "name": "stderr",
     "output_type": "stream",
     "text": [
      "2025-07-16 18:01:43.492024: E external/local_xla/xla/stream_executor/cuda/cuda_fft.cc:477] Unable to register cuFFT factory: Attempting to register factory for plugin cuFFT when one has already been registered\n",
      "WARNING: All log messages before absl::InitializeLog() is called are written to STDERR\n",
      "E0000 00:00:1752688903.725617      56 cuda_dnn.cc:8310] Unable to register cuDNN factory: Attempting to register factory for plugin cuDNN when one has already been registered\n",
      "E0000 00:00:1752688903.789453      56 cuda_blas.cc:1418] Unable to register cuBLAS factory: Attempting to register factory for plugin cuBLAS when one has already been registered\n"
     ]
    }
   ],
   "source": [
    "import os\n",
    "import pandas as pd\n",
    "import numpy as np\n",
    "import tensorflow as tf\n",
    "import matplotlib.pyplot as plt\n",
    "import seaborn as sns\n",
    "import random\n",
    "import math\n",
    "import copy\n",
    "import cv2\n",
    "\n",
    "from tensorflow.keras.preprocessing import image\n",
    "from tensorflow.keras.preprocessing.image import load_img\n",
    "from tensorflow.keras.preprocessing.image import ImageDataGenerator\n",
    "\n",
    "from tensorflow.keras.applications.xception import Xception\n",
    "from tensorflow.keras.callbacks import ModelCheckpoint, EarlyStopping, Callback\n",
    "from tensorflow.keras.callbacks import ReduceLROnPlateau\n",
    "from tensorflow.keras.applications.xception import preprocess_input, decode_predictions\n",
    "from tensorflow.keras.optimizers import Adam, RMSprop\n",
    "from tensorflow.keras.models import Model, Sequential\n",
    "from tensorflow.keras.layers import Dense, Flatten, Dropout\n",
    "from tensorflow.keras.preprocessing import image_dataset_from_directory\n",
    "#from tensorflow.keras.layers.experimental.preprocessing import RandomFlip, RandomRotation\n",
    "from tensorflow.keras.layers import RandomFlip, RandomRotation\n",
    "\n",
    "from keras import backend as K\n",
    "from sklearn.metrics import classification_report, confusion_matrix\n"
   ]
  },
  {
   "cell_type": "code",
   "execution_count": 3,
   "id": "f6d512c2-d0be-4b2c-9653-1989d2d94e93",
   "metadata": {
    "execution": {
     "iopub.execute_input": "2025-07-16T18:01:56.130248Z",
     "iopub.status.busy": "2025-07-16T18:01:56.129343Z",
     "iopub.status.idle": "2025-07-16T18:01:56.260860Z",
     "shell.execute_reply": "2025-07-16T18:01:56.259997Z",
     "shell.execute_reply.started": "2025-07-16T18:01:56.130228Z"
    },
    "id": "f6d512c2-d0be-4b2c-9653-1989d2d94e93",
    "outputId": "5bf7a4b3-4009-4a3c-d57e-2ea3e37c635c"
   },
   "outputs": [
    {
     "name": "stdout",
     "output_type": "stream",
     "text": [
      "/bin/bash: line 1: conda: command not found\n"
     ]
    }
   ],
   "source": [
    "! conda install -y gdown"
   ]
  },
  {
   "cell_type": "code",
   "execution_count": 4,
   "id": "6304bbcb-69ec-439b-8212-64937f9f7f04",
   "metadata": {
    "execution": {
     "iopub.execute_input": "2025-07-16T18:01:56.262358Z",
     "iopub.status.busy": "2025-07-16T18:01:56.262039Z",
     "iopub.status.idle": "2025-07-16T18:07:43.431868Z",
     "shell.execute_reply": "2025-07-16T18:07:43.431305Z",
     "shell.execute_reply.started": "2025-07-16T18:01:56.262325Z"
    },
    "id": "6304bbcb-69ec-439b-8212-64937f9f7f04",
    "outputId": "803d2d18-3c24-49b9-99f1-ca7a907ffdee"
   },
   "outputs": [
    {
     "name": "stderr",
     "output_type": "stream",
     "text": [
      "Downloading...\n",
      "From: https://prod-dcd-datasets-cache-zipfiles.s3.eu-west-1.amazonaws.com/bwh3zbpkpv-1.zip\n",
      "To: /kaggle/working/bwh3zbpkpv-1.zip\n",
      "100%|██████████| 8.44G/8.44G [05:46<00:00, 24.4MB/s]  \n"
     ]
    },
    {
     "data": {
      "text/plain": [
       "'bwh3zbpkpv-1.zip'"
      ]
     },
     "execution_count": 4,
     "metadata": {},
     "output_type": "execute_result"
    }
   ],
   "source": [
    "import gdown\n",
    "\n",
    "# a file\n",
    "url = \"https://prod-dcd-datasets-cache-zipfiles.s3.eu-west-1.amazonaws.com/bwh3zbpkpv-1.zip\"\n",
    "gdown.download(url)"
   ]
  },
  {
   "cell_type": "code",
   "execution_count": 5,
   "id": "8818b38b-f0ad-40e5-9c9d-807f996c5f4a",
   "metadata": {
    "execution": {
     "iopub.execute_input": "2025-07-16T18:07:43.436660Z",
     "iopub.status.busy": "2025-07-16T18:07:43.436188Z",
     "iopub.status.idle": "2025-07-16T18:08:35.945210Z",
     "shell.execute_reply": "2025-07-16T18:08:35.944318Z",
     "shell.execute_reply.started": "2025-07-16T18:07:43.436635Z"
    },
    "id": "8818b38b-f0ad-40e5-9c9d-807f996c5f4a",
    "outputId": "62167d5e-654d-41f7-83e2-561187dfe128"
   },
   "outputs": [
    {
     "name": "stdout",
     "output_type": "stream",
     "text": [
      "Unzipped to: /kaggle/working/bwh3zbpkpv\n"
     ]
    }
   ],
   "source": [
    "import zipfile\n",
    "import os\n",
    "\n",
    "zip_path = \"/kaggle/working/bwh3zbpkpv-1.zip\"\n",
    "extract_path = \"/kaggle/working/bwh3zbpkpv\"\n",
    "\n",
    "with zipfile.ZipFile(zip_path, 'r') as zip_ref:\n",
    "    zip_ref.extractall(extract_path)\n",
    "\n",
    "print(\"Unzipped to:\", extract_path)\n"
   ]
  },
  {
   "cell_type": "code",
   "execution_count": 6,
   "id": "bf8de700-2b57-4b68-973a-7bc6b714f2e3",
   "metadata": {
    "execution": {
     "iopub.execute_input": "2025-07-16T18:08:35.946518Z",
     "iopub.status.busy": "2025-07-16T18:08:35.946239Z",
     "iopub.status.idle": "2025-07-16T18:08:35.951625Z",
     "shell.execute_reply": "2025-07-16T18:08:35.950784Z",
     "shell.execute_reply.started": "2025-07-16T18:08:35.946498Z"
    },
    "id": "bf8de700-2b57-4b68-973a-7bc6b714f2e3",
    "outputId": "1b5425a3-4c6b-4997-ed0d-064d1ff7cf1c"
   },
   "outputs": [
    {
     "name": "stdout",
     "output_type": "stream",
     "text": [
      "Current folder: /kaggle/working/bwh3zbpkpv\n",
      "Subfolders: ['Dataset for Crop Pest and Disease Detection']\n",
      "Files: []\n"
     ]
    }
   ],
   "source": [
    "# List the top-level files and folders\n",
    "for root, dirs, files in os.walk(extract_path):\n",
    "    print(\"Current folder:\", root)\n",
    "    print(\"Subfolders:\", dirs)\n",
    "    print(\"Files:\", files)\n",
    "    break  # Remove this 'break' to see everything recursively\n"
   ]
  },
  {
   "cell_type": "code",
   "execution_count": 7,
   "id": "6530f79e-dde8-465a-bb60-32263ad727cb",
   "metadata": {
    "execution": {
     "iopub.execute_input": "2025-07-16T18:08:35.952775Z",
     "iopub.status.busy": "2025-07-16T18:08:35.952533Z",
     "iopub.status.idle": "2025-07-16T18:08:35.966796Z",
     "shell.execute_reply": "2025-07-16T18:08:35.966262Z",
     "shell.execute_reply.started": "2025-07-16T18:08:35.952748Z"
    },
    "id": "6530f79e-dde8-465a-bb60-32263ad727cb",
    "outputId": "a44165ee-0d72-43d0-ca82-27582a4cd15f"
   },
   "outputs": [
    {
     "name": "stdout",
     "output_type": "stream",
     "text": [
      "Current folder: /kaggle/working/bwh3zbpkpv/Dataset for Crop Pest and Disease Detection\n",
      "Subfolders: ['CCMT Dataset-Augmented', 'Raw Data']\n",
      "Files: []\n"
     ]
    }
   ],
   "source": [
    "import os\n",
    "\n",
    "inner_folder = os.path.join(extract_path, \"Dataset for Crop Pest and Disease Detection\")\n",
    "\n",
    "for root, dirs, files in os.walk(inner_folder):\n",
    "    print(\"Current folder:\", root)\n",
    "    print(\"Subfolders:\", dirs)\n",
    "    print(\"Files:\", files)\n",
    "    break  # remove break if you want to go deeper\n"
   ]
  },
  {
   "cell_type": "code",
   "execution_count": 8,
   "id": "88b91be4-9f5f-4670-a686-e9c93d72beb9",
   "metadata": {
    "execution": {
     "iopub.execute_input": "2025-07-16T18:08:35.967630Z",
     "iopub.status.busy": "2025-07-16T18:08:35.967404Z",
     "iopub.status.idle": "2025-07-16T18:08:35.983856Z",
     "shell.execute_reply": "2025-07-16T18:08:35.983298Z",
     "shell.execute_reply.started": "2025-07-16T18:08:35.967614Z"
    },
    "id": "88b91be4-9f5f-4670-a686-e9c93d72beb9",
    "outputId": "a0fd3ea4-428a-4519-9d28-5f7cff7e0fc7"
   },
   "outputs": [
    {
     "name": "stdout",
     "output_type": "stream",
     "text": [
      "Current folder: /kaggle/working/bwh3zbpkpv/Dataset for Crop Pest and Disease Detection/CCMT Dataset-Augmented\n",
      "Subfolders: ['Tomato', 'Cassava', 'Maize', 'Cashew']\n",
      "Files: []\n"
     ]
    }
   ],
   "source": [
    "ccmt_path = os.path.join(inner_folder, \"CCMT Dataset-Augmented\")\n",
    "\n",
    "for root, dirs, files in os.walk(ccmt_path):\n",
    "    print(\"Current folder:\", root)\n",
    "    print(\"Subfolders:\", dirs)\n",
    "    print(\"Files:\", files)\n",
    "    break\n"
   ]
  },
  {
   "cell_type": "code",
   "execution_count": 9,
   "id": "9c0d8704-9290-47d4-bdf8-0f9ef82bcfb3",
   "metadata": {
    "execution": {
     "iopub.execute_input": "2025-07-16T18:08:35.984860Z",
     "iopub.status.busy": "2025-07-16T18:08:35.984565Z",
     "iopub.status.idle": "2025-07-16T18:08:36.003228Z",
     "shell.execute_reply": "2025-07-16T18:08:36.002291Z",
     "shell.execute_reply.started": "2025-07-16T18:08:35.984843Z"
    },
    "id": "9c0d8704-9290-47d4-bdf8-0f9ef82bcfb3"
   },
   "outputs": [],
   "source": [
    "train_dir = os.path.join(\n",
    "    inner_folder,\n",
    "    \"CCMT Dataset-Augmented\",\n",
    "    \"Maize\",\n",
    "    \"train_set\"\n",
    ")\n",
    "\n",
    "test_dir = os.path.join(\n",
    "    inner_folder,\n",
    "    \"CCMT Dataset-Augmented\",\n",
    "    \"Maize\",\n",
    "    \"test_set\"\n",
    ")\n",
    "\n",
    "# validation_dir = os.path.join(\n",
    "#     inner_folder,\n",
    "#     \"Raw Data\",\n",
    "#     \"CCMT Dataset\",\n",
    "#     \"Cashew\",\n",
    "# )\n",
    "validation_dir = os.path.join(\n",
    "    inner_folder,\n",
    "    \"CCMT Dataset-Augmented\",\n",
    "    \"Maize\",\n",
    "    \"test_set\"\n",
    ")"
   ]
  },
  {
   "cell_type": "code",
   "execution_count": 10,
   "id": "SnueqfUvEtxG",
   "metadata": {
    "execution": {
     "iopub.execute_input": "2025-07-16T18:08:36.004397Z",
     "iopub.status.busy": "2025-07-16T18:08:36.004111Z",
     "iopub.status.idle": "2025-07-16T18:08:36.017795Z",
     "shell.execute_reply": "2025-07-16T18:08:36.017042Z",
     "shell.execute_reply.started": "2025-07-16T18:08:36.004372Z"
    },
    "id": "SnueqfUvEtxG"
   },
   "outputs": [],
   "source": [
    "# from google.colab import drive\n",
    "# drive.mount('/content/drive')"
   ]
  },
  {
   "cell_type": "markdown",
   "id": "ad31a485-19fe-4a5b-944d-709d26c380c1",
   "metadata": {
    "id": "ad31a485-19fe-4a5b-944d-709d26c380c1"
   },
   "source": [
    "# define train forms"
   ]
  },
  {
   "cell_type": "code",
   "execution_count": null,
   "id": "ab931cdf-223a-4a6b-b5aa-4638565dc21c",
   "metadata": {
    "id": "ab931cdf-223a-4a6b-b5aa-4638565dc21c"
   },
   "outputs": [],
   "source": []
  },
  {
   "cell_type": "code",
   "execution_count": 11,
   "id": "ca45a774-3e31-41eb-ad76-cf83f74baaca",
   "metadata": {
    "execution": {
     "iopub.execute_input": "2025-07-16T18:08:36.018865Z",
     "iopub.status.busy": "2025-07-16T18:08:36.018647Z",
     "iopub.status.idle": "2025-07-16T18:08:36.078178Z",
     "shell.execute_reply": "2025-07-16T18:08:36.077352Z",
     "shell.execute_reply.started": "2025-07-16T18:08:36.018840Z"
    },
    "id": "ca45a774-3e31-41eb-ad76-cf83f74baaca"
   },
   "outputs": [],
   "source": [
    "import os\n",
    "\n",
    "train_data = []\n",
    "\n",
    "for class_name in os.listdir(train_dir):\n",
    "    class_path = os.path.join(train_dir, class_name)\n",
    "    if os.path.isdir(class_path):  # ✅ only process directories\n",
    "        for file_name in os.listdir(class_path):\n",
    "            file_path = os.path.join(class_path, file_name)\n",
    "            train_data.append((file_path, class_name))"
   ]
  },
  {
   "cell_type": "code",
   "execution_count": null,
   "id": "3b8848e4-74df-41cb-8d10-9f15d8d85ed7",
   "metadata": {
    "id": "3b8848e4-74df-41cb-8d10-9f15d8d85ed7"
   },
   "outputs": [],
   "source": []
  },
  {
   "cell_type": "code",
   "execution_count": 12,
   "id": "2e3d507f-c4cd-45c3-be74-0536601ff839",
   "metadata": {
    "colab": {
     "base_uri": "https://localhost:8080/",
     "height": 206
    },
    "execution": {
     "iopub.execute_input": "2025-07-16T18:08:36.079142Z",
     "iopub.status.busy": "2025-07-16T18:08:36.078886Z",
     "iopub.status.idle": "2025-07-16T18:08:36.112125Z",
     "shell.execute_reply": "2025-07-16T18:08:36.111142Z",
     "shell.execute_reply.started": "2025-07-16T18:08:36.079122Z"
    },
    "id": "2e3d507f-c4cd-45c3-be74-0536601ff839",
    "outputId": "fec52dad-a3fa-4406-f0a7-b355610bd337"
   },
   "outputs": [
    {
     "data": {
      "text/html": [
       "<div>\n",
       "<style scoped>\n",
       "    .dataframe tbody tr th:only-of-type {\n",
       "        vertical-align: middle;\n",
       "    }\n",
       "\n",
       "    .dataframe tbody tr th {\n",
       "        vertical-align: top;\n",
       "    }\n",
       "\n",
       "    .dataframe thead th {\n",
       "        text-align: right;\n",
       "    }\n",
       "</style>\n",
       "<table border=\"1\" class=\"dataframe\">\n",
       "  <thead>\n",
       "    <tr style=\"text-align: right;\">\n",
       "      <th></th>\n",
       "      <th>File_Path</th>\n",
       "      <th>Class_Name</th>\n",
       "    </tr>\n",
       "  </thead>\n",
       "  <tbody>\n",
       "    <tr>\n",
       "      <th>0</th>\n",
       "      <td>/kaggle/working/bwh3zbpkpv/Dataset for Crop Pe...</td>\n",
       "      <td>leaf blight</td>\n",
       "    </tr>\n",
       "    <tr>\n",
       "      <th>1</th>\n",
       "      <td>/kaggle/working/bwh3zbpkpv/Dataset for Crop Pe...</td>\n",
       "      <td>leaf blight</td>\n",
       "    </tr>\n",
       "    <tr>\n",
       "      <th>2</th>\n",
       "      <td>/kaggle/working/bwh3zbpkpv/Dataset for Crop Pe...</td>\n",
       "      <td>leaf blight</td>\n",
       "    </tr>\n",
       "    <tr>\n",
       "      <th>3</th>\n",
       "      <td>/kaggle/working/bwh3zbpkpv/Dataset for Crop Pe...</td>\n",
       "      <td>leaf blight</td>\n",
       "    </tr>\n",
       "    <tr>\n",
       "      <th>4</th>\n",
       "      <td>/kaggle/working/bwh3zbpkpv/Dataset for Crop Pe...</td>\n",
       "      <td>leaf blight</td>\n",
       "    </tr>\n",
       "  </tbody>\n",
       "</table>\n",
       "</div>"
      ],
      "text/plain": [
       "                                           File_Path   Class_Name\n",
       "0  /kaggle/working/bwh3zbpkpv/Dataset for Crop Pe...  leaf blight\n",
       "1  /kaggle/working/bwh3zbpkpv/Dataset for Crop Pe...  leaf blight\n",
       "2  /kaggle/working/bwh3zbpkpv/Dataset for Crop Pe...  leaf blight\n",
       "3  /kaggle/working/bwh3zbpkpv/Dataset for Crop Pe...  leaf blight\n",
       "4  /kaggle/working/bwh3zbpkpv/Dataset for Crop Pe...  leaf blight"
      ]
     },
     "execution_count": 12,
     "metadata": {},
     "output_type": "execute_result"
    }
   ],
   "source": [
    "train_df = pd.DataFrame(train_data, columns=['File_Path', 'Class_Name'])\n",
    "train_df.head()"
   ]
  },
  {
   "cell_type": "code",
   "execution_count": 13,
   "id": "a95cabf6-a0c9-4f7c-b5f9-62aef830af8c",
   "metadata": {
    "colab": {
     "base_uri": "https://localhost:8080/",
     "height": 206
    },
    "execution": {
     "iopub.execute_input": "2025-07-16T18:08:36.116524Z",
     "iopub.status.busy": "2025-07-16T18:08:36.116271Z",
     "iopub.status.idle": "2025-07-16T18:08:36.131063Z",
     "shell.execute_reply": "2025-07-16T18:08:36.130325Z",
     "shell.execute_reply.started": "2025-07-16T18:08:36.116508Z"
    },
    "id": "a95cabf6-a0c9-4f7c-b5f9-62aef830af8c",
    "outputId": "641745e4-4f05-402f-9421-2a1a312210ed"
   },
   "outputs": [
    {
     "data": {
      "text/html": [
       "<div>\n",
       "<style scoped>\n",
       "    .dataframe tbody tr th:only-of-type {\n",
       "        vertical-align: middle;\n",
       "    }\n",
       "\n",
       "    .dataframe tbody tr th {\n",
       "        vertical-align: top;\n",
       "    }\n",
       "\n",
       "    .dataframe thead th {\n",
       "        text-align: right;\n",
       "    }\n",
       "</style>\n",
       "<table border=\"1\" class=\"dataframe\">\n",
       "  <thead>\n",
       "    <tr style=\"text-align: right;\">\n",
       "      <th></th>\n",
       "      <th>File_Path</th>\n",
       "      <th>Class_Name</th>\n",
       "      <th>Class_ID</th>\n",
       "    </tr>\n",
       "  </thead>\n",
       "  <tbody>\n",
       "    <tr>\n",
       "      <th>0</th>\n",
       "      <td>/kaggle/working/bwh3zbpkpv/Dataset for Crop Pe...</td>\n",
       "      <td>leaf blight</td>\n",
       "      <td>4</td>\n",
       "    </tr>\n",
       "    <tr>\n",
       "      <th>1</th>\n",
       "      <td>/kaggle/working/bwh3zbpkpv/Dataset for Crop Pe...</td>\n",
       "      <td>leaf blight</td>\n",
       "      <td>4</td>\n",
       "    </tr>\n",
       "    <tr>\n",
       "      <th>2</th>\n",
       "      <td>/kaggle/working/bwh3zbpkpv/Dataset for Crop Pe...</td>\n",
       "      <td>leaf blight</td>\n",
       "      <td>4</td>\n",
       "    </tr>\n",
       "    <tr>\n",
       "      <th>3</th>\n",
       "      <td>/kaggle/working/bwh3zbpkpv/Dataset for Crop Pe...</td>\n",
       "      <td>leaf blight</td>\n",
       "      <td>4</td>\n",
       "    </tr>\n",
       "    <tr>\n",
       "      <th>4</th>\n",
       "      <td>/kaggle/working/bwh3zbpkpv/Dataset for Crop Pe...</td>\n",
       "      <td>leaf blight</td>\n",
       "      <td>4</td>\n",
       "    </tr>\n",
       "  </tbody>\n",
       "</table>\n",
       "</div>"
      ],
      "text/plain": [
       "                                           File_Path   Class_Name  Class_ID\n",
       "0  /kaggle/working/bwh3zbpkpv/Dataset for Crop Pe...  leaf blight         4\n",
       "1  /kaggle/working/bwh3zbpkpv/Dataset for Crop Pe...  leaf blight         4\n",
       "2  /kaggle/working/bwh3zbpkpv/Dataset for Crop Pe...  leaf blight         4\n",
       "3  /kaggle/working/bwh3zbpkpv/Dataset for Crop Pe...  leaf blight         4\n",
       "4  /kaggle/working/bwh3zbpkpv/Dataset for Crop Pe...  leaf blight         4"
      ]
     },
     "execution_count": 13,
     "metadata": {},
     "output_type": "execute_result"
    }
   ],
   "source": [
    "from sklearn.preprocessing import LabelEncoder\n",
    "\n",
    "encoder = LabelEncoder()\n",
    "train_df['Class_ID'] = encoder.fit_transform(train_df['Class_Name'])\n",
    "train_df.head()"
   ]
  },
  {
   "cell_type": "code",
   "execution_count": 14,
   "id": "3488b465-d23e-4ff5-97cd-a59002104547",
   "metadata": {
    "colab": {
     "base_uri": "https://localhost:8080/",
     "height": 272
    },
    "execution": {
     "iopub.execute_input": "2025-07-16T18:08:36.132039Z",
     "iopub.status.busy": "2025-07-16T18:08:36.131757Z",
     "iopub.status.idle": "2025-07-16T18:08:36.139101Z",
     "shell.execute_reply": "2025-07-16T18:08:36.138205Z",
     "shell.execute_reply.started": "2025-07-16T18:08:36.132018Z"
    },
    "id": "3488b465-d23e-4ff5-97cd-a59002104547",
    "outputId": "b6bb6bfb-e19c-45ba-fb09-26879b5ce3a5"
   },
   "outputs": [],
   "source": [
    "#train_df['Class_Name'].value_counts()"
   ]
  },
  {
   "cell_type": "code",
   "execution_count": 15,
   "id": "daf0d40c-a3cb-4c10-b435-fc7e59bbeb7a",
   "metadata": {
    "colab": {
     "base_uri": "https://localhost:8080/",
     "height": 272
    },
    "execution": {
     "iopub.execute_input": "2025-07-16T18:08:36.140901Z",
     "iopub.status.busy": "2025-07-16T18:08:36.140108Z",
     "iopub.status.idle": "2025-07-16T18:08:36.165821Z",
     "shell.execute_reply": "2025-07-16T18:08:36.165046Z",
     "shell.execute_reply.started": "2025-07-16T18:08:36.140854Z"
    },
    "id": "daf0d40c-a3cb-4c10-b435-fc7e59bbeb7a",
    "outputId": "9d4ad270-3b95-4a4f-912f-43ec761866c3"
   },
   "outputs": [
    {
     "data": {
      "text/plain": [
       "Class_ID\n",
       "6    4043\n",
       "4    4025\n",
       "3    3789\n",
       "5    3024\n",
       "1    2575\n",
       "0    1140\n",
       "2     830\n",
       "Name: count, dtype: int64"
      ]
     },
     "execution_count": 15,
     "metadata": {},
     "output_type": "execute_result"
    }
   ],
   "source": [
    "train_df['Class_ID'].value_counts()"
   ]
  },
  {
   "cell_type": "raw",
   "id": "8a908db9-ecac-4069-bdfb-36f986c2076f",
   "metadata": {
    "id": "8a908db9-ecac-4069-bdfb-36f986c2076f"
   },
   "source": [
    "# dataset is already augmented so you might want to skip augmenting the dataset"
   ]
  },
  {
   "cell_type": "markdown",
   "id": "e7960418-a9a0-4c4b-8d33-7b5dc113796a",
   "metadata": {
    "id": "e7960418-a9a0-4c4b-8d33-7b5dc113796a"
   },
   "source": [
    "#take a look at the various diseases"
   ]
  },
  {
   "cell_type": "code",
   "execution_count": 16,
   "id": "cce112dd-8675-470a-8713-c70355bdfac5",
   "metadata": {
    "execution": {
     "iopub.execute_input": "2025-07-16T18:08:36.166825Z",
     "iopub.status.busy": "2025-07-16T18:08:36.166626Z",
     "iopub.status.idle": "2025-07-16T18:08:36.172224Z",
     "shell.execute_reply": "2025-07-16T18:08:36.171494Z",
     "shell.execute_reply.started": "2025-07-16T18:08:36.166811Z"
    },
    "id": "cce112dd-8675-470a-8713-c70355bdfac5"
   },
   "outputs": [],
   "source": [
    "\n",
    "#name is the title\n",
    "def plotimage(desired_class: str,name):\n",
    "    desired_class_df = train_df[train_df['Class_Name'] == desired_class]\n",
    "\n",
    "    num_images_to_plot = 4\n",
    "\n",
    "    fig, axes = plt.subplots(1, num_images_to_plot, figsize=(15, 5))\n",
    "\n",
    "    for i, (index, row) in enumerate(desired_class_df.head(num_images_to_plot).iterrows()):\n",
    "        image_path = row['File_Path']\n",
    "        image = load_img(image_path)\n",
    "\n",
    "        axes[i].imshow(image)\n",
    "        axes[i].set_title(f\"Image {i+1}: {name}\")\n",
    "        axes[i].axis('off')\n",
    "\n",
    "    plt.tight_layout()\n",
    "    plt.show()"
   ]
  },
  {
   "cell_type": "code",
   "execution_count": 17,
   "id": "f9b4c38a-9bfd-4801-bc6d-4d1cbb91529e",
   "metadata": {
    "execution": {
     "iopub.execute_input": "2025-07-16T18:08:36.173574Z",
     "iopub.status.busy": "2025-07-16T18:08:36.173050Z",
     "iopub.status.idle": "2025-07-16T18:08:36.196239Z",
     "shell.execute_reply": "2025-07-16T18:08:36.195267Z",
     "shell.execute_reply.started": "2025-07-16T18:08:36.173547Z"
    },
    "id": "f9b4c38a-9bfd-4801-bc6d-4d1cbb91529e"
   },
   "outputs": [],
   "source": [
    "#plotimage('healthy','HEALTHY')"
   ]
  },
  {
   "cell_type": "code",
   "execution_count": 18,
   "id": "31ae8f43-d35b-4585-9023-5a0e56572e29",
   "metadata": {
    "execution": {
     "iopub.execute_input": "2025-07-16T18:08:36.197449Z",
     "iopub.status.busy": "2025-07-16T18:08:36.197140Z",
     "iopub.status.idle": "2025-07-16T18:08:36.211758Z",
     "shell.execute_reply": "2025-07-16T18:08:36.210735Z",
     "shell.execute_reply.started": "2025-07-16T18:08:36.197425Z"
    },
    "id": "31ae8f43-d35b-4585-9023-5a0e56572e29"
   },
   "outputs": [],
   "source": [
    "#plotimage('red rust','RED RUST')"
   ]
  },
  {
   "cell_type": "code",
   "execution_count": 19,
   "id": "00a01dd2-ae80-4351-8b4a-313daa98084f",
   "metadata": {
    "execution": {
     "iopub.execute_input": "2025-07-16T18:08:36.212705Z",
     "iopub.status.busy": "2025-07-16T18:08:36.212507Z",
     "iopub.status.idle": "2025-07-16T18:08:36.228710Z",
     "shell.execute_reply": "2025-07-16T18:08:36.227805Z",
     "shell.execute_reply.started": "2025-07-16T18:08:36.212683Z"
    },
    "id": "00a01dd2-ae80-4351-8b4a-313daa98084f"
   },
   "outputs": [],
   "source": [
    "#plotimage('leaf miner','LEAF MINER')"
   ]
  },
  {
   "cell_type": "code",
   "execution_count": 20,
   "id": "8ffc175c-b17e-400a-85e1-38e781bb2c92",
   "metadata": {
    "execution": {
     "iopub.execute_input": "2025-07-16T18:08:36.229816Z",
     "iopub.status.busy": "2025-07-16T18:08:36.229578Z",
     "iopub.status.idle": "2025-07-16T18:08:36.245695Z",
     "shell.execute_reply": "2025-07-16T18:08:36.245035Z",
     "shell.execute_reply.started": "2025-07-16T18:08:36.229796Z"
    },
    "id": "8ffc175c-b17e-400a-85e1-38e781bb2c92"
   },
   "outputs": [],
   "source": [
    "#plotimage('anthracnose','ANTHRACNOSE')"
   ]
  },
  {
   "cell_type": "code",
   "execution_count": 21,
   "id": "35bd37d3-5ea9-43cb-84b0-0627659c7f62",
   "metadata": {
    "execution": {
     "iopub.execute_input": "2025-07-16T18:08:36.246601Z",
     "iopub.status.busy": "2025-07-16T18:08:36.246323Z",
     "iopub.status.idle": "2025-07-16T18:08:36.266775Z",
     "shell.execute_reply": "2025-07-16T18:08:36.266102Z",
     "shell.execute_reply.started": "2025-07-16T18:08:36.246586Z"
    },
    "id": "35bd37d3-5ea9-43cb-84b0-0627659c7f62"
   },
   "outputs": [],
   "source": [
    "#plotimage('gumosis','GUMOSIS')"
   ]
  },
  {
   "cell_type": "markdown",
   "id": "3ea1af5a-4d8c-4819-bdd7-4a39913859eb",
   "metadata": {
    "id": "3ea1af5a-4d8c-4819-bdd7-4a39913859eb"
   },
   "source": [
    "# xception model"
   ]
  },
  {
   "cell_type": "code",
   "execution_count": 22,
   "id": "3d445aa9-0f06-4636-8be5-8d486a4c1140",
   "metadata": {
    "execution": {
     "iopub.execute_input": "2025-07-16T18:08:36.267883Z",
     "iopub.status.busy": "2025-07-16T18:08:36.267617Z",
     "iopub.status.idle": "2025-07-16T18:08:37.221128Z",
     "shell.execute_reply": "2025-07-16T18:08:37.220415Z",
     "shell.execute_reply.started": "2025-07-16T18:08:36.267861Z"
    },
    "id": "3d445aa9-0f06-4636-8be5-8d486a4c1140"
   },
   "outputs": [
    {
     "name": "stderr",
     "output_type": "stream",
     "text": [
      "I0000 00:00:1752689317.134571      56 gpu_device.cc:2022] Created device /job:localhost/replica:0/task:0/device:GPU:0 with 15513 MB memory:  -> device: 0, name: Tesla P100-PCIE-16GB, pci bus id: 0000:00:04.0, compute capability: 6.0\n"
     ]
    }
   ],
   "source": [
    "opt = tf.keras.optimizers.Adam(learning_rate=1e-4)\n",
    "loss = 'categorical_crossentropy'\n",
    "metrics = ['accuracy']\n",
    "\n",
    "batch_size = 32"
   ]
  },
  {
   "cell_type": "code",
   "execution_count": 23,
   "id": "388efa2e-d35f-475c-9639-244e81f674e6",
   "metadata": {
    "execution": {
     "iopub.execute_input": "2025-07-16T18:08:37.222223Z",
     "iopub.status.busy": "2025-07-16T18:08:37.221910Z",
     "iopub.status.idle": "2025-07-16T18:08:40.453471Z",
     "shell.execute_reply": "2025-07-16T18:08:40.452908Z",
     "shell.execute_reply.started": "2025-07-16T18:08:37.222206Z"
    },
    "id": "388efa2e-d35f-475c-9639-244e81f674e6"
   },
   "outputs": [
    {
     "name": "stdout",
     "output_type": "stream",
     "text": [
      "Downloading data from https://storage.googleapis.com/tensorflow/keras-applications/xception/xception_weights_tf_dim_ordering_tf_kernels_notop.h5\n",
      "\u001b[1m83683744/83683744\u001b[0m \u001b[32m━━━━━━━━━━━━━━━━━━━━\u001b[0m\u001b[37m\u001b[0m \u001b[1m1s\u001b[0m 0us/step\n"
     ]
    }
   ],
   "source": [
    "model1 = Xception(include_top=False,input_shape=(299, 299, 3), weights='imagenet')"
   ]
  },
  {
   "cell_type": "code",
   "execution_count": 24,
   "id": "8802eff1-0a99-4f52-a424-290d0d9cf416",
   "metadata": {
    "execution": {
     "iopub.execute_input": "2025-07-16T18:08:40.454497Z",
     "iopub.status.busy": "2025-07-16T18:08:40.454260Z",
     "iopub.status.idle": "2025-07-16T18:08:40.458115Z",
     "shell.execute_reply": "2025-07-16T18:08:40.457404Z",
     "shell.execute_reply.started": "2025-07-16T18:08:40.454475Z"
    },
    "id": "8802eff1-0a99-4f52-a424-290d0d9cf416"
   },
   "outputs": [],
   "source": [
    "input_shape= (299, 299)"
   ]
  },
  {
   "cell_type": "code",
   "execution_count": 25,
   "id": "ec6921c8-bb5b-4aac-85d6-45adaaad52ed",
   "metadata": {
    "colab": {
     "base_uri": "https://localhost:8080/"
    },
    "execution": {
     "iopub.execute_input": "2025-07-16T18:08:40.459177Z",
     "iopub.status.busy": "2025-07-16T18:08:40.458825Z",
     "iopub.status.idle": "2025-07-16T18:08:40.909701Z",
     "shell.execute_reply": "2025-07-16T18:08:40.909174Z",
     "shell.execute_reply.started": "2025-07-16T18:08:40.459156Z"
    },
    "id": "ec6921c8-bb5b-4aac-85d6-45adaaad52ed",
    "outputId": "789af519-30fd-45ef-8d86-5375610707a3"
   },
   "outputs": [
    {
     "name": "stdout",
     "output_type": "stream",
     "text": [
      "Found 19426 images belonging to 7 classes.\n",
      "Found 5125 images belonging to 7 classes.\n",
      "Found 5125 images belonging to 7 classes.\n"
     ]
    }
   ],
   "source": [
    "\n",
    "datagen_train = ImageDataGenerator(rescale=1./255,\n",
    "                                  width_shift_range=0.2,\n",
    "                                  height_shift_range=0.2,\n",
    "                                  zoom_range=0.2,\n",
    "                                  horizontal_flip=True,\n",
    "                                  vertical_flip=False)\n",
    "\n",
    "\n",
    "datagen_test = ImageDataGenerator(rescale=1./255)\n",
    "datagen_val = ImageDataGenerator(rescale=1./255)\n",
    "\n",
    "\n",
    "generator_train = datagen_train.flow_from_directory(directory=train_dir,\n",
    "                                                    target_size=input_shape,\n",
    "                                                    batch_size=batch_size,\n",
    "                                                    shuffle=True)\n",
    "\n",
    "generator_test = datagen_test.flow_from_directory(directory=test_dir,\n",
    "                                                  target_size=input_shape,\n",
    "                                                  batch_size=batch_size,\n",
    "                                                  shuffle=False)\n",
    "\n",
    "generator_val = datagen_val.flow_from_directory(directory=validation_dir,\n",
    "                                                  target_size=input_shape,\n",
    "                                                  batch_size=batch_size,\n",
    "                                                  shuffle=False)\n"
   ]
  },
  {
   "cell_type": "code",
   "execution_count": 26,
   "id": "9df2bf68-41d6-49ce-99a1-7ad0996b60ff",
   "metadata": {
    "colab": {
     "base_uri": "https://localhost:8080/"
    },
    "execution": {
     "iopub.execute_input": "2025-07-16T18:08:40.910631Z",
     "iopub.status.busy": "2025-07-16T18:08:40.910376Z",
     "iopub.status.idle": "2025-07-16T18:08:40.915440Z",
     "shell.execute_reply": "2025-07-16T18:08:40.914755Z",
     "shell.execute_reply.started": "2025-07-16T18:08:40.910609Z"
    },
    "id": "9df2bf68-41d6-49ce-99a1-7ad0996b60ff",
    "outputId": "b73acc2e-c6bb-4842-c0b1-5e0db144a4d5"
   },
   "outputs": [
    {
     "data": {
      "text/plain": [
       "19426"
      ]
     },
     "execution_count": 26,
     "metadata": {},
     "output_type": "execute_result"
    }
   ],
   "source": [
    "math.ceil(generator_train.samples)"
   ]
  },
  {
   "cell_type": "code",
   "execution_count": 27,
   "id": "21dd4472-d48e-4c6a-822d-9854401cebcb",
   "metadata": {
    "colab": {
     "base_uri": "https://localhost:8080/"
    },
    "execution": {
     "iopub.execute_input": "2025-07-16T18:08:40.916416Z",
     "iopub.status.busy": "2025-07-16T18:08:40.916161Z",
     "iopub.status.idle": "2025-07-16T18:08:51.808191Z",
     "shell.execute_reply": "2025-07-16T18:08:51.807432Z",
     "shell.execute_reply.started": "2025-07-16T18:08:40.916394Z"
    },
    "id": "21dd4472-d48e-4c6a-822d-9854401cebcb",
    "outputId": "a7a00fc5-d37b-44c1-dbd9-dc995f8afb0f"
   },
   "outputs": [
    {
     "data": {
      "text/plain": [
       "array([[0., 0., 0., 0., 0., 0., 1.],\n",
       "       [0., 0., 0., 1., 0., 0., 0.],\n",
       "       [0., 0., 0., 0., 0., 0., 1.],\n",
       "       [0., 0., 0., 0., 1., 0., 0.],\n",
       "       [0., 0., 0., 1., 0., 0., 0.],\n",
       "       [0., 0., 0., 1., 0., 0., 0.],\n",
       "       [1., 0., 0., 0., 0., 0., 0.],\n",
       "       [0., 0., 0., 0., 1., 0., 0.],\n",
       "       [0., 1., 0., 0., 0., 0., 0.],\n",
       "       [0., 0., 0., 1., 0., 0., 0.],\n",
       "       [0., 0., 0., 0., 0., 1., 0.],\n",
       "       [1., 0., 0., 0., 0., 0., 0.],\n",
       "       [0., 0., 1., 0., 0., 0., 0.],\n",
       "       [0., 1., 0., 0., 0., 0., 0.],\n",
       "       [0., 0., 0., 1., 0., 0., 0.],\n",
       "       [0., 0., 0., 0., 0., 1., 0.],\n",
       "       [0., 0., 0., 0., 1., 0., 0.],\n",
       "       [0., 0., 0., 0., 1., 0., 0.],\n",
       "       [0., 0., 0., 0., 0., 1., 0.],\n",
       "       [0., 0., 0., 0., 1., 0., 0.],\n",
       "       [0., 0., 0., 0., 1., 0., 0.],\n",
       "       [0., 0., 0., 0., 0., 0., 1.],\n",
       "       [0., 0., 0., 0., 1., 0., 0.],\n",
       "       [0., 1., 0., 0., 0., 0., 0.],\n",
       "       [0., 0., 0., 0., 0., 1., 0.],\n",
       "       [0., 1., 0., 0., 0., 0., 0.],\n",
       "       [0., 1., 0., 0., 0., 0., 0.],\n",
       "       [0., 0., 0., 1., 0., 0., 0.],\n",
       "       [0., 0., 0., 0., 0., 0., 1.],\n",
       "       [0., 0., 0., 0., 0., 1., 0.],\n",
       "       [0., 0., 1., 0., 0., 0., 0.],\n",
       "       [0., 0., 0., 0., 1., 0., 0.]], dtype=float32)"
      ]
     },
     "execution_count": 27,
     "metadata": {},
     "output_type": "execute_result"
    }
   ],
   "source": [
    "next(generator_train)[1]"
   ]
  },
  {
   "cell_type": "markdown",
   "id": "1d8f916d-8f0b-46a2-848f-8d864f1144ae",
   "metadata": {
    "id": "1d8f916d-8f0b-46a2-848f-8d864f1144ae"
   },
   "source": [
    "# Xception deep network"
   ]
  },
  {
   "cell_type": "code",
   "execution_count": 28,
   "id": "f8c5ee46-a504-4b61-a8e6-4cbd7ea220e2",
   "metadata": {
    "execution": {
     "iopub.execute_input": "2025-07-16T18:08:51.809302Z",
     "iopub.status.busy": "2025-07-16T18:08:51.809023Z",
     "iopub.status.idle": "2025-07-16T18:08:51.818602Z",
     "shell.execute_reply": "2025-07-16T18:08:51.817974Z",
     "shell.execute_reply.started": "2025-07-16T18:08:51.809276Z"
    },
    "id": "f8c5ee46-a504-4b61-a8e6-4cbd7ea220e2"
   },
   "outputs": [],
   "source": [
    "conv_model = Model(inputs=model1.input, outputs=model1.output)"
   ]
  },
  {
   "cell_type": "code",
   "execution_count": 33,
   "id": "e36d608b-e8e1-4b61-b8e8-8ada2a4cf894",
   "metadata": {
    "execution": {
     "iopub.execute_input": "2025-07-16T18:16:26.422701Z",
     "iopub.status.busy": "2025-07-16T18:16:26.422411Z",
     "iopub.status.idle": "2025-07-16T18:16:26.458783Z",
     "shell.execute_reply": "2025-07-16T18:16:26.458279Z",
     "shell.execute_reply.started": "2025-07-16T18:16:26.422680Z"
    },
    "id": "e36d608b-e8e1-4b61-b8e8-8ada2a4cf894"
   },
   "outputs": [],
   "source": [
    "\n",
    "new_model = Sequential()\n",
    "new_model.add(conv_model)\n",
    "new_model.add(Flatten())\n",
    "new_model.add(Dropout(0.5))\n",
    "new_model.add(Dense(512, activation='relu'))\n",
    "new_model.add(Dense(7, activation='softmax'))"
   ]
  },
  {
   "cell_type": "code",
   "execution_count": 34,
   "id": "ebc432a8-bfa7-40ad-8b05-572e17b3288d",
   "metadata": {
    "execution": {
     "iopub.execute_input": "2025-07-16T18:16:27.122466Z",
     "iopub.status.busy": "2025-07-16T18:16:27.122235Z",
     "iopub.status.idle": "2025-07-16T18:16:27.129454Z",
     "shell.execute_reply": "2025-07-16T18:16:27.128679Z",
     "shell.execute_reply.started": "2025-07-16T18:16:27.122450Z"
    },
    "id": "ebc432a8-bfa7-40ad-8b05-572e17b3288d"
   },
   "outputs": [],
   "source": [
    "new_model.compile(optimizer= opt, loss=loss, metrics=metrics)"
   ]
  },
  {
   "cell_type": "code",
   "execution_count": 35,
   "id": "861e1774-aef8-45d9-8780-acf66664cea1",
   "metadata": {
    "colab": {
     "base_uri": "https://localhost:8080/"
    },
    "execution": {
     "iopub.execute_input": "2025-07-16T18:16:27.999545Z",
     "iopub.status.busy": "2025-07-16T18:16:27.999275Z",
     "iopub.status.idle": "2025-07-16T18:16:28.004636Z",
     "shell.execute_reply": "2025-07-16T18:16:28.004035Z",
     "shell.execute_reply.started": "2025-07-16T18:16:27.999528Z"
    },
    "id": "861e1774-aef8-45d9-8780-acf66664cea1",
    "outputId": "ed1f9c84-f1db-45b3-e793-df3954c0bf68"
   },
   "outputs": [
    {
     "name": "stdout",
     "output_type": "stream",
     "text": [
      "Epoch:  10\n",
      "Steps_per_epoch:  608\n",
      "Steps_val:  161\n"
     ]
    }
   ],
   "source": [
    "\n",
    "num_iters = 30000\n",
    "num_batches_train = generator_train.n // batch_size\n",
    "\n",
    "epochs = int(num_iters / num_batches_train)\n",
    "epochs = 10\n",
    "print(\"Epoch: \",epochs)\n",
    "desired_train_accuracy = 0.99\n",
    "\n",
    "#steps_per_epoch = generator_train.n // batch_size\n",
    "#steps_val = generator_val.n // batch_size\n",
    "\n",
    "steps_per_epoch = math.ceil(generator_train.n / batch_size)\n",
    "steps_val = math.ceil(generator_val.n / batch_size)\n",
    "\n",
    "print(\"Steps_per_epoch: \",steps_per_epoch)\n",
    "print(\"Steps_val: \",steps_val)"
   ]
  },
  {
   "cell_type": "markdown",
   "id": "8bcca12d-c93c-4f96-996c-fc183d8ace1b",
   "metadata": {},
   "source": [
    "# fit model"
   ]
  },
  {
   "cell_type": "code",
   "execution_count": 36,
   "id": "cf33c97d-40c1-473b-9d41-46e41e73fbe6",
   "metadata": {
    "colab": {
     "base_uri": "https://localhost:8080/"
    },
    "execution": {
     "iopub.execute_input": "2025-07-16T18:16:31.694272Z",
     "iopub.status.busy": "2025-07-16T18:16:31.693977Z",
     "iopub.status.idle": "2025-07-16T19:33:31.755746Z",
     "shell.execute_reply": "2025-07-16T19:33:31.754935Z",
     "shell.execute_reply.started": "2025-07-16T18:16:31.694252Z"
    },
    "id": "cf33c97d-40c1-473b-9d41-46e41e73fbe6",
    "outputId": "f507b158-fe00-408e-af5c-6cc3fba3e6ec"
   },
   "outputs": [
    {
     "name": "stdout",
     "output_type": "stream",
     "text": [
      "Epoch 1/10\n"
     ]
    },
    {
     "name": "stderr",
     "output_type": "stream",
     "text": [
      "WARNING: All log messages before absl::InitializeLog() is called are written to STDERR\n",
      "I0000 00:00:1752689827.129855      95 service.cc:148] XLA service 0x7d4114004100 initialized for platform CUDA (this does not guarantee that XLA will be used). Devices:\n",
      "I0000 00:00:1752689827.130721      95 service.cc:156]   StreamExecutor device (0): Tesla P100-PCIE-16GB, Compute Capability 6.0\n",
      "I0000 00:00:1752689830.415002      95 cuda_dnn.cc:529] Loaded cuDNN version 90300\n",
      "E0000 00:00:1752689846.418421      95 gpu_timer.cc:82] Delay kernel timed out: measured time has sub-optimal accuracy. There may be a missing warmup execution, please investigate in Nsight Systems.\n",
      "E0000 00:00:1752689846.656773      95 gpu_timer.cc:82] Delay kernel timed out: measured time has sub-optimal accuracy. There may be a missing warmup execution, please investigate in Nsight Systems.\n",
      "E0000 00:00:1752689848.018151      95 gpu_timer.cc:82] Delay kernel timed out: measured time has sub-optimal accuracy. There may be a missing warmup execution, please investigate in Nsight Systems.\n",
      "E0000 00:00:1752689848.258203      95 gpu_timer.cc:82] Delay kernel timed out: measured time has sub-optimal accuracy. There may be a missing warmup execution, please investigate in Nsight Systems.\n",
      "E0000 00:00:1752689849.831566      95 gpu_timer.cc:82] Delay kernel timed out: measured time has sub-optimal accuracy. There may be a missing warmup execution, please investigate in Nsight Systems.\n",
      "E0000 00:00:1752689850.025697      95 gpu_timer.cc:82] Delay kernel timed out: measured time has sub-optimal accuracy. There may be a missing warmup execution, please investigate in Nsight Systems.\n",
      "E0000 00:00:1752689851.467484      95 gpu_timer.cc:82] Delay kernel timed out: measured time has sub-optimal accuracy. There may be a missing warmup execution, please investigate in Nsight Systems.\n",
      "E0000 00:00:1752689851.667294      95 gpu_timer.cc:82] Delay kernel timed out: measured time has sub-optimal accuracy. There may be a missing warmup execution, please investigate in Nsight Systems.\n",
      "E0000 00:00:1752689852.113749      95 gpu_timer.cc:82] Delay kernel timed out: measured time has sub-optimal accuracy. There may be a missing warmup execution, please investigate in Nsight Systems.\n",
      "E0000 00:00:1752689852.339513      95 gpu_timer.cc:82] Delay kernel timed out: measured time has sub-optimal accuracy. There may be a missing warmup execution, please investigate in Nsight Systems.\n",
      "I0000 00:00:1752689860.823896      95 device_compiler.h:188] Compiled cluster using XLA!  This line is logged at most once for the lifetime of the process.\n"
     ]
    },
    {
     "name": "stdout",
     "output_type": "stream",
     "text": [
      "\u001b[1m608/608\u001b[0m \u001b[32m━━━━━━━━━━━━━━━━━━━━\u001b[0m\u001b[37m\u001b[0m \u001b[1m542s\u001b[0m 781ms/step - accuracy: 0.7084 - loss: 0.9308 - val_accuracy: 0.8455 - val_loss: 0.3966\n",
      "Epoch 2/10\n",
      "\u001b[1m608/608\u001b[0m \u001b[32m━━━━━━━━━━━━━━━━━━━━\u001b[0m\u001b[37m\u001b[0m \u001b[1m450s\u001b[0m 740ms/step - accuracy: 0.8738 - loss: 0.3269 - val_accuracy: 0.8812 - val_loss: 0.2976\n",
      "Epoch 3/10\n",
      "\u001b[1m608/608\u001b[0m \u001b[32m━━━━━━━━━━━━━━━━━━━━\u001b[0m\u001b[37m\u001b[0m \u001b[1m453s\u001b[0m 745ms/step - accuracy: 0.9109 - loss: 0.2364 - val_accuracy: 0.9026 - val_loss: 0.2674\n",
      "Epoch 4/10\n",
      "\u001b[1m608/608\u001b[0m \u001b[32m━━━━━━━━━━━━━━━━━━━━\u001b[0m\u001b[37m\u001b[0m \u001b[1m456s\u001b[0m 749ms/step - accuracy: 0.9271 - loss: 0.1888 - val_accuracy: 0.9104 - val_loss: 0.2518\n",
      "Epoch 5/10\n",
      "\u001b[1m608/608\u001b[0m \u001b[32m━━━━━━━━━━━━━━━━━━━━\u001b[0m\u001b[37m\u001b[0m \u001b[1m458s\u001b[0m 753ms/step - accuracy: 0.9401 - loss: 0.1553 - val_accuracy: 0.9257 - val_loss: 0.2176\n",
      "Epoch 6/10\n",
      "\u001b[1m608/608\u001b[0m \u001b[32m━━━━━━━━━━━━━━━━━━━━\u001b[0m\u001b[37m\u001b[0m \u001b[1m451s\u001b[0m 740ms/step - accuracy: 0.9448 - loss: 0.1344 - val_accuracy: 0.9155 - val_loss: 0.3098\n",
      "Epoch 7/10\n",
      "\u001b[1m608/608\u001b[0m \u001b[32m━━━━━━━━━━━━━━━━━━━━\u001b[0m\u001b[37m\u001b[0m \u001b[1m449s\u001b[0m 738ms/step - accuracy: 0.9491 - loss: 0.1240 - val_accuracy: 0.9208 - val_loss: 0.2582\n",
      "Epoch 8/10\n",
      "\u001b[1m608/608\u001b[0m \u001b[32m━━━━━━━━━━━━━━━━━━━━\u001b[0m\u001b[37m\u001b[0m \u001b[1m454s\u001b[0m 747ms/step - accuracy: 0.9524 - loss: 0.1230 - val_accuracy: 0.9329 - val_loss: 0.2566\n",
      "Epoch 9/10\n",
      "\u001b[1m608/608\u001b[0m \u001b[32m━━━━━━━━━━━━━━━━━━━━\u001b[0m\u001b[37m\u001b[0m \u001b[1m457s\u001b[0m 751ms/step - accuracy: 0.9571 - loss: 0.1085 - val_accuracy: 0.9344 - val_loss: 0.2021\n",
      "Epoch 10/10\n",
      "\u001b[1m608/608\u001b[0m \u001b[32m━━━━━━━━━━━━━━━━━━━━\u001b[0m\u001b[37m\u001b[0m \u001b[1m447s\u001b[0m 735ms/step - accuracy: 0.9585 - loss: 0.0998 - val_accuracy: 0.9245 - val_loss: 0.2945\n"
     ]
    }
   ],
   "source": [
    "\n",
    "Checkpoint = ModelCheckpoint(\"xception_cassava.keras\", monitor=\"val_accuracy\", save_best_only=True, mode=\"max\")\n",
    "#EarlyStop = EarlyStopping(monitor=\"val_accuracy\", baseline=desired_train_accuracy, patience=10, restore_best_weights=True, mode=\"auto\")\n",
    "EarlyStop = EarlyStopping(monitor=\"val_accuracy\", patience=10, restore_best_weights=True,mode=\"auto\")\n",
    "history = new_model.fit(generator_train,\n",
    "                        epochs=epochs,\n",
    "                        callbacks=[Checkpoint, EarlyStop],\n",
    "                        steps_per_epoch=steps_per_epoch,\n",
    "                        validation_data=generator_val,\n",
    "                        validation_steps=steps_val)\n"
   ]
  },
  {
   "cell_type": "code",
   "execution_count": 37,
   "id": "5126819b-863e-40fb-afea-5107fd8e411b",
   "metadata": {
    "execution": {
     "iopub.execute_input": "2025-07-16T19:33:31.757552Z",
     "iopub.status.busy": "2025-07-16T19:33:31.757295Z",
     "iopub.status.idle": "2025-07-16T19:33:31.760901Z",
     "shell.execute_reply": "2025-07-16T19:33:31.760365Z",
     "shell.execute_reply.started": "2025-07-16T19:33:31.757518Z"
    },
    "id": "5126819b-863e-40fb-afea-5107fd8e411b"
   },
   "outputs": [],
   "source": [
    "# save exception model"
   ]
  },
  {
   "cell_type": "code",
   "execution_count": 38,
   "id": "100b56da-9fc6-40e2-8904-64c826398a4c",
   "metadata": {
    "execution": {
     "iopub.execute_input": "2025-07-16T19:33:31.762223Z",
     "iopub.status.busy": "2025-07-16T19:33:31.761648Z",
     "iopub.status.idle": "2025-07-16T19:33:31.982091Z",
     "shell.execute_reply": "2025-07-16T19:33:31.981525Z",
     "shell.execute_reply.started": "2025-07-16T19:33:31.762200Z"
    },
    "id": "100b56da-9fc6-40e2-8904-64c826398a4c",
    "outputId": "016b32d7-ce43-4d8f-de8a-c944e61f874c"
   },
   "outputs": [],
   "source": [
    "# Delete the big zip file (if already extracted)\n",
    "import os\n",
    "os.remove('/kaggle/working/bwh3zbpkpv-1.zip')"
   ]
  },
  {
   "cell_type": "code",
   "execution_count": 39,
   "id": "55a7413d-5e63-48e1-b682-462c62f25c2c",
   "metadata": {
    "execution": {
     "iopub.execute_input": "2025-07-16T19:33:31.983766Z",
     "iopub.status.busy": "2025-07-16T19:33:31.983592Z",
     "iopub.status.idle": "2025-07-16T19:33:31.988120Z",
     "shell.execute_reply": "2025-07-16T19:33:31.987447Z",
     "shell.execute_reply.started": "2025-07-16T19:33:31.983753Z"
    },
    "id": "55a7413d-5e63-48e1-b682-462c62f25c2c",
    "outputId": "ccece1f5-0039-4ecd-e32f-17ecf7f010b8"
   },
   "outputs": [
    {
     "name": "stdout",
     "output_type": "stream",
     "text": [
      "['xception_cassava.keras', '.virtual_documents', 'bwh3zbpkpv']\n"
     ]
    }
   ],
   "source": [
    "import os\n",
    "\n",
    "print(os.listdir('/kaggle/working'))\n"
   ]
  },
  {
   "cell_type": "code",
   "execution_count": 40,
   "id": "009ed896-08a3-4cb2-8cf6-0a169b325731",
   "metadata": {
    "execution": {
     "iopub.execute_input": "2025-07-16T19:33:31.989187Z",
     "iopub.status.busy": "2025-07-16T19:33:31.988910Z",
     "iopub.status.idle": "2025-07-16T19:33:36.335597Z",
     "shell.execute_reply": "2025-07-16T19:33:36.335033Z",
     "shell.execute_reply.started": "2025-07-16T19:33:31.989166Z"
    },
    "id": "009ed896-08a3-4cb2-8cf6-0a169b325731"
   },
   "outputs": [],
   "source": [
    "new_model.save('/kaggle/working/my_model.h5')"
   ]
  },
  {
   "cell_type": "code",
   "execution_count": 41,
   "id": "416486a8-a395-42ab-8522-6d80a8573205",
   "metadata": {
    "execution": {
     "iopub.execute_input": "2025-07-16T19:33:36.336715Z",
     "iopub.status.busy": "2025-07-16T19:33:36.336506Z",
     "iopub.status.idle": "2025-07-16T19:33:36.340827Z",
     "shell.execute_reply": "2025-07-16T19:33:36.340155Z",
     "shell.execute_reply.started": "2025-07-16T19:33:36.336699Z"
    },
    "id": "416486a8-a395-42ab-8522-6d80a8573205",
    "outputId": "9281d7a0-15ca-4048-99f8-3ae094a3e3ec"
   },
   "outputs": [
    {
     "name": "stdout",
     "output_type": "stream",
     "text": [
      "['xception_cassava.keras', 'my_model.h5', '.virtual_documents', 'bwh3zbpkpv']\n"
     ]
    }
   ],
   "source": [
    "import os\n",
    "\n",
    "print(os.listdir('/kaggle/working'))\n"
   ]
  },
  {
   "cell_type": "code",
   "execution_count": 42,
   "id": "cc92286c-808e-4ea5-8251-abad77750330",
   "metadata": {
    "execution": {
     "iopub.execute_input": "2025-07-16T19:33:36.341689Z",
     "iopub.status.busy": "2025-07-16T19:33:36.341478Z",
     "iopub.status.idle": "2025-07-16T19:33:36.356465Z",
     "shell.execute_reply": "2025-07-16T19:33:36.355907Z",
     "shell.execute_reply.started": "2025-07-16T19:33:36.341675Z"
    },
    "id": "cc92286c-808e-4ea5-8251-abad77750330",
    "outputId": "b8a4363c-9ba5-4797-dc4c-9a2a8df67eb4"
   },
   "outputs": [
    {
     "data": {
      "text/html": [
       "<a href='/kaggle/working/my_model.h5' target='_blank'>/kaggle/working/my_model.h5</a><br>"
      ],
      "text/plain": [
       "/kaggle/working/my_model.h5"
      ]
     },
     "execution_count": 42,
     "metadata": {},
     "output_type": "execute_result"
    }
   ],
   "source": [
    "from IPython.display import FileLink\n",
    "\n",
    "FileLink('/kaggle/working/my_model.h5')"
   ]
  },
  {
   "cell_type": "code",
   "execution_count": 43,
   "id": "942608d3-b64f-4a4e-b3ed-b901aa14b85b",
   "metadata": {
    "execution": {
     "iopub.execute_input": "2025-07-16T19:33:36.357503Z",
     "iopub.status.busy": "2025-07-16T19:33:36.357252Z",
     "iopub.status.idle": "2025-07-16T19:34:56.916892Z",
     "shell.execute_reply": "2025-07-16T19:34:56.916204Z",
     "shell.execute_reply.started": "2025-07-16T19:33:36.357479Z"
    },
    "id": "942608d3-b64f-4a4e-b3ed-b901aa14b85b",
    "outputId": "d4597314-7f07-4892-beac-416e3b87e368"
   },
   "outputs": [
    {
     "data": {
      "text/plain": [
       "'/kaggle/working/my_model.zip'"
      ]
     },
     "execution_count": 43,
     "metadata": {},
     "output_type": "execute_result"
    }
   ],
   "source": [
    "import shutil\n",
    "\n",
    "shutil.make_archive('/kaggle/working/my_model', 'zip', '/kaggle/working', 'my_model.h5')\n"
   ]
  },
  {
   "cell_type": "code",
   "execution_count": 44,
   "id": "f5bf3590-f511-4b4e-b23e-9a3b97a86078",
   "metadata": {
    "execution": {
     "iopub.execute_input": "2025-07-16T19:34:56.917894Z",
     "iopub.status.busy": "2025-07-16T19:34:56.917694Z",
     "iopub.status.idle": "2025-07-16T19:34:56.922929Z",
     "shell.execute_reply": "2025-07-16T19:34:56.922240Z",
     "shell.execute_reply.started": "2025-07-16T19:34:56.917873Z"
    }
   },
   "outputs": [
    {
     "data": {
      "text/plain": [
       "'/kaggle/working/xception_cassava.keras'"
      ]
     },
     "execution_count": 44,
     "metadata": {},
     "output_type": "execute_result"
    }
   ],
   "source": [
    "import shutil\n",
    "\n",
    "shutil.move(\"xception_cassava.keras\", \"/kaggle/working/xception_cassava.keras\")"
   ]
  },
  {
   "cell_type": "code",
   "execution_count": 45,
   "id": "0df5a958-1813-42b2-97e4-b22b622d3637",
   "metadata": {
    "execution": {
     "iopub.execute_input": "2025-07-16T19:34:56.925363Z",
     "iopub.status.busy": "2025-07-16T19:34:56.925139Z",
     "iopub.status.idle": "2025-07-16T19:36:17.943721Z",
     "shell.execute_reply": "2025-07-16T19:36:17.942690Z",
     "shell.execute_reply.started": "2025-07-16T19:34:56.925349Z"
    },
    "id": "0df5a958-1813-42b2-97e4-b22b622d3637",
    "outputId": "ba43270c-e9f0-4dec-86d8-6380ea3784c4"
   },
   "outputs": [
    {
     "data": {
      "text/plain": [
       "'/kaggle/working/my_model.zip'"
      ]
     },
     "execution_count": 45,
     "metadata": {},
     "output_type": "execute_result"
    }
   ],
   "source": [
    "\n",
    "\n",
    "# Now try again:\n",
    "import shutil\n",
    "shutil.make_archive('/kaggle/working/my_model', 'zip', '/kaggle/working', 'my_model.h5')\n"
   ]
  },
  {
   "cell_type": "code",
   "execution_count": 46,
   "id": "53b644bb-4c1d-4743-97e2-f4f60bc2a19d",
   "metadata": {
    "execution": {
     "iopub.execute_input": "2025-07-16T19:36:17.944831Z",
     "iopub.status.busy": "2025-07-16T19:36:17.944545Z",
     "iopub.status.idle": "2025-07-16T19:36:17.950346Z",
     "shell.execute_reply": "2025-07-16T19:36:17.949750Z",
     "shell.execute_reply.started": "2025-07-16T19:36:17.944808Z"
    },
    "id": "53b644bb-4c1d-4743-97e2-f4f60bc2a19d"
   },
   "outputs": [
    {
     "data": {
      "text/plain": [
       "\"\\ndef plot_training(history):\\n    plt.figure(figsize=(12, 4))\\n\\n    plt.subplot(1, 2, 1)\\n    plt.plot(new_model.history.history['accuracy'], label='Train Accuracy')\\n    plt.plot(new_model.history.history['val_accuracy'], label='Validation Accuracy')\\n    plt.axhline(0.99, color='red', linestyle='--', alpha=0.5, label='99% Target')\\n    plt.title('Accuracy Progress')\\n    plt.legend()\\n\\n    plt.subplot(1, 2, 2)\\n    plt.plot(new_model.history.history['loss'], label='Train Loss')\\n    plt.plot(new_model.history.history['val_loss'], label='Validation Loss')\\n    plt.title('Loss Progress')\\n    plt.legend()\\n\\n    plt.tight_layout()\\n    plt.show()\\n\\n# Call this after each epoch\\nclass PlotCallback(Callback):\\n    def on_epoch_end(self, epoch, logs=None):\\n        plot_training(history)\\n        \""
      ]
     },
     "execution_count": 46,
     "metadata": {},
     "output_type": "execute_result"
    }
   ],
   "source": [
    "'''\n",
    "def plot_training(history):\n",
    "    plt.figure(figsize=(12, 4))\n",
    "\n",
    "    plt.subplot(1, 2, 1)\n",
    "    plt.plot(new_model.history.history['accuracy'], label='Train Accuracy')\n",
    "    plt.plot(new_model.history.history['val_accuracy'], label='Validation Accuracy')\n",
    "    plt.axhline(0.99, color='red', linestyle='--', alpha=0.5, label='99% Target')\n",
    "    plt.title('Accuracy Progress')\n",
    "    plt.legend()\n",
    "\n",
    "    plt.subplot(1, 2, 2)\n",
    "    plt.plot(new_model.history.history['loss'], label='Train Loss')\n",
    "    plt.plot(new_model.history.history['val_loss'], label='Validation Loss')\n",
    "    plt.title('Loss Progress')\n",
    "    plt.legend()\n",
    "\n",
    "    plt.tight_layout()\n",
    "    plt.show()\n",
    "\n",
    "# Call this after each epoch\n",
    "class PlotCallback(Callback):\n",
    "    def on_epoch_end(self, epoch, logs=None):\n",
    "        plot_training(history)\n",
    "        '''"
   ]
  },
  {
   "cell_type": "code",
   "execution_count": 47,
   "id": "ea1d823c-153f-415b-a7c0-8869fa3eefde",
   "metadata": {
    "execution": {
     "iopub.execute_input": "2025-07-16T19:36:17.951635Z",
     "iopub.status.busy": "2025-07-16T19:36:17.951109Z",
     "iopub.status.idle": "2025-07-16T19:36:21.510234Z",
     "shell.execute_reply": "2025-07-16T19:36:21.509481Z",
     "shell.execute_reply.started": "2025-07-16T19:36:17.951605Z"
    },
    "id": "ea1d823c-153f-415b-a7c0-8869fa3eefde"
   },
   "outputs": [],
   "source": [
    "from tensorflow.keras.models import load_model\n",
    "\n",
    "# Load your saved model\n",
    "model = load_model('/kaggle/working/my_model.h5')"
   ]
  },
  {
   "cell_type": "code",
   "execution_count": 48,
   "id": "94473900-1a82-4e42-a882-019e33328238",
   "metadata": {
    "execution": {
     "iopub.execute_input": "2025-07-16T19:36:21.511645Z",
     "iopub.status.busy": "2025-07-16T19:36:21.511382Z",
     "iopub.status.idle": "2025-07-16T19:36:21.516577Z",
     "shell.execute_reply": "2025-07-16T19:36:21.515846Z",
     "shell.execute_reply.started": "2025-07-16T19:36:21.511627Z"
    },
    "id": "94473900-1a82-4e42-a882-019e33328238"
   },
   "outputs": [],
   "source": [
    "import numpy as np\n",
    "from tensorflow.keras.preprocessing import image\n",
    "from tensorflow.keras.applications.xception import preprocess_input\n",
    "\n",
    "def predict_image_class(img_path):\n",
    "    # Load and resize image\n",
    "    img = image.load_img(img_path, target_size=(299, 299))\n",
    "\n",
    "    # Convert to array and preprocess\n",
    "    img_array = image.img_to_array(img)\n",
    "    img_array = np.expand_dims(img_array, axis=0)\n",
    "    img_array = preprocess_input(img_array)\n",
    "\n",
    "    # Make prediction\n",
    "    predictions = model.predict(img_array)\n",
    "    predicted_class = np.argmax(predictions, axis=1)[0]\n",
    "    confidence = np.max(predictions)\n",
    "\n",
    "    return predicted_class, confidence"
   ]
  },
  {
   "cell_type": "code",
   "execution_count": 49,
   "id": "59c833e7-f298-4faa-8554-7cf27a1b049b",
   "metadata": {
    "execution": {
     "iopub.execute_input": "2025-07-16T19:36:21.517630Z",
     "iopub.status.busy": "2025-07-16T19:36:21.517411Z",
     "iopub.status.idle": "2025-07-16T19:36:21.534966Z",
     "shell.execute_reply": "2025-07-16T19:36:21.534436Z",
     "shell.execute_reply.started": "2025-07-16T19:36:21.517615Z"
    },
    "id": "59c833e7-f298-4faa-8554-7cf27a1b049b",
    "outputId": "9231094d-971b-4408-c373-e2f13db19857"
   },
   "outputs": [
    {
     "name": "stdout",
     "output_type": "stream",
     "text": [
      "Class Mapping:\n",
      "0: fall armyworm\n",
      "1: grasshoper\n",
      "2: healthy\n",
      "3: leaf beetle\n",
      "4: leaf blight\n",
      "5: leaf spot\n",
      "6: streak virus\n"
     ]
    }
   ],
   "source": [
    "# Get class names from your validation generator\n",
    "class_names = list(generator_val.class_indices.keys())\n",
    "class_mapping = {i: name for i, name in enumerate(class_names)}\n",
    "\n",
    "print(\"Class Mapping:\")\n",
    "for idx, name in class_mapping.items():\n",
    "    print(f\"{idx}: {name}\")"
   ]
  },
  {
   "cell_type": "code",
   "execution_count": 50,
   "id": "98aae3b2-962d-467c-86f9-feb6fb7507d5",
   "metadata": {
    "execution": {
     "iopub.execute_input": "2025-07-16T19:36:21.536293Z",
     "iopub.status.busy": "2025-07-16T19:36:21.535930Z",
     "iopub.status.idle": "2025-07-16T19:36:21.561948Z",
     "shell.execute_reply": "2025-07-16T19:36:21.561449Z",
     "shell.execute_reply.started": "2025-07-16T19:36:21.536277Z"
    },
    "id": "98aae3b2-962d-467c-86f9-feb6fb7507d5"
   },
   "outputs": [],
   "source": [
    "import os\n",
    "import random\n",
    "from glob import glob\n",
    "\n",
    "# Get all image paths from raw data directory\n",
    "all_images = []\n",
    "for root, dirs, files in os.walk(validation_dir):\n",
    "    for file in files:\n",
    "        if file.lower().endswith(('.png', '.jpg', '.jpeg')):\n",
    "            all_images.append(os.path.join(root, file))\n",
    "\n",
    "# Select random images\n",
    "num_samples = 8\n",
    "sample_images = random.sample(all_images, num_samples)"
   ]
  },
  {
   "cell_type": "code",
   "execution_count": 51,
   "id": "c180bfd9-eb6d-4dec-ab85-b084e2242fb0",
   "metadata": {
    "execution": {
     "iopub.execute_input": "2025-07-16T19:36:21.562782Z",
     "iopub.status.busy": "2025-07-16T19:36:21.562593Z",
     "iopub.status.idle": "2025-07-16T19:36:21.568185Z",
     "shell.execute_reply": "2025-07-16T19:36:21.567535Z",
     "shell.execute_reply.started": "2025-07-16T19:36:21.562765Z"
    },
    "id": "c180bfd9-eb6d-4dec-ab85-b084e2242fb0"
   },
   "outputs": [
    {
     "data": {
      "text/plain": [
       "'\\nimport matplotlib.pyplot as plt\\n\\nplt.figure(figsize=(15, 10))\\nfor i, img_path in enumerate(sample_images):\\n    # Get true class from directory structure\\n    true_class = img_path.split(\\'/\\')[-2]\\n\\n    # Predict\\n    pred_class_idx, confidence = predict_image_class(img_path)\\n    pred_class = class_mapping[pred_class_idx]\\n\\n    # Plot\\n    img = image.load_img(img_path)\\n    plt.subplot(2, 4, i+1)\\n    plt.imshow(img)\\n    plt.title(f\"True: {true_class}\\nPred: {pred_class}\\nConf: {confidence:.2f}\")\\n    plt.axis(\\'off\\')\\n\\n    # Highlight incorrect predictions in red\\n    if true_class != pred_class:\\n        plt.gca().set_title(f\"True: {true_class}\\nPred: {pred_class}\\nConf: {confidence:.2f}\",\\n                            color=\\'red\\')\\n\\nplt.tight_layout()\\nplt.show()\\n'"
      ]
     },
     "execution_count": 51,
     "metadata": {},
     "output_type": "execute_result"
    }
   ],
   "source": [
    "'''\n",
    "import matplotlib.pyplot as plt\n",
    "\n",
    "plt.figure(figsize=(15, 10))\n",
    "for i, img_path in enumerate(sample_images):\n",
    "    # Get true class from directory structure\n",
    "    true_class = img_path.split('/')[-2]\n",
    "\n",
    "    # Predict\n",
    "    pred_class_idx, confidence = predict_image_class(img_path)\n",
    "    pred_class = class_mapping[pred_class_idx]\n",
    "\n",
    "    # Plot\n",
    "    img = image.load_img(img_path)\n",
    "    plt.subplot(2, 4, i+1)\n",
    "    plt.imshow(img)\n",
    "    plt.title(f\"True: {true_class}\\nPred: {pred_class}\\nConf: {confidence:.2f}\")\n",
    "    plt.axis('off')\n",
    "\n",
    "    # Highlight incorrect predictions in red\n",
    "    if true_class != pred_class:\n",
    "        plt.gca().set_title(f\"True: {true_class}\\nPred: {pred_class}\\nConf: {confidence:.2f}\",\n",
    "                            color='red')\n",
    "\n",
    "plt.tight_layout()\n",
    "plt.show()\n",
    "'''"
   ]
  },
  {
   "cell_type": "code",
   "execution_count": 52,
   "id": "0382edb4-a65a-4d57-ba3b-2475e67111e9",
   "metadata": {
    "execution": {
     "iopub.execute_input": "2025-07-16T19:36:21.569230Z",
     "iopub.status.busy": "2025-07-16T19:36:21.568942Z",
     "iopub.status.idle": "2025-07-16T19:36:21.585005Z",
     "shell.execute_reply": "2025-07-16T19:36:21.584359Z",
     "shell.execute_reply.started": "2025-07-16T19:36:21.569215Z"
    },
    "id": "0382edb4-a65a-4d57-ba3b-2475e67111e9"
   },
   "outputs": [
    {
     "data": {
      "text/plain": [
       "\"'from sklearn.metrics import classification_report\\n\\n# Get all validation images\\nall_val_images = []\\ntrue_labels = []\\nfor root, dirs, files in os.walk(validation_dir):\\n    for file in files:\\n        if file.lower().endswith(('.png', '.jpg', '.jpeg')):\\n            all_val_images.append(os.path.join(root, file))\\n            true_labels.append(os.path.basename(root))\\n\\n# Predict all\\npred_labels = []\\nfor img_path in all_val_images:\\n    pred_class_idx, _ = predict_image_class(img_path)\\n    pred_labels.append(class_mapping[pred_class_idx])\\n\\n# Classification report\\nprint(classification_report(true_labels, pred_labels, target_names=class_names))\\n\""
      ]
     },
     "execution_count": 52,
     "metadata": {},
     "output_type": "execute_result"
    }
   ],
   "source": [
    "''''from sklearn.metrics import classification_report\n",
    "\n",
    "# Get all validation images\n",
    "all_val_images = []\n",
    "true_labels = []\n",
    "for root, dirs, files in os.walk(validation_dir):\n",
    "    for file in files:\n",
    "        if file.lower().endswith(('.png', '.jpg', '.jpeg')):\n",
    "            all_val_images.append(os.path.join(root, file))\n",
    "            true_labels.append(os.path.basename(root))\n",
    "\n",
    "# Predict all\n",
    "pred_labels = []\n",
    "for img_path in all_val_images:\n",
    "    pred_class_idx, _ = predict_image_class(img_path)\n",
    "    pred_labels.append(class_mapping[pred_class_idx])\n",
    "\n",
    "# Classification report\n",
    "print(classification_report(true_labels, pred_labels, target_names=class_names))\n",
    "'''"
   ]
  },
  {
   "cell_type": "code",
   "execution_count": 56,
   "id": "9b2e8402-edf3-4257-8708-2a31f16dfb59",
   "metadata": {
    "execution": {
     "iopub.execute_input": "2025-07-16T19:41:12.594086Z",
     "iopub.status.busy": "2025-07-16T19:41:12.593381Z",
     "iopub.status.idle": "2025-07-16T19:41:12.598629Z",
     "shell.execute_reply": "2025-07-16T19:41:12.597948Z",
     "shell.execute_reply.started": "2025-07-16T19:41:12.594057Z"
    },
    "id": "9b2e8402-edf3-4257-8708-2a31f16dfb59"
   },
   "outputs": [
    {
     "data": {
      "text/html": [
       "<a href='my_model.h5' target='_blank'>my_model.h5</a><br>"
      ],
      "text/plain": [
       "/kaggle/working/my_model.h5"
      ]
     },
     "execution_count": 56,
     "metadata": {},
     "output_type": "execute_result"
    }
   ],
   "source": [
    "FileLink('my_model.h5')\n",
    "#FileLink('xception_cassava.keras')\n"
   ]
  },
  {
   "cell_type": "code",
   "execution_count": 54,
   "id": "e3e010c6-6d64-495e-a28d-da98fd23f3b3",
   "metadata": {
    "execution": {
     "iopub.execute_input": "2025-07-16T19:36:21.600329Z",
     "iopub.status.busy": "2025-07-16T19:36:21.600112Z",
     "iopub.status.idle": "2025-07-16T19:36:25.713582Z",
     "shell.execute_reply": "2025-07-16T19:36:25.713022Z",
     "shell.execute_reply.started": "2025-07-16T19:36:21.600315Z"
    }
   },
   "outputs": [],
   "source": [
    "import shutil\n",
    "\n",
    "shutil.rmtree('/kaggle/working/bwh3zbpkpv')\n"
   ]
  },
  {
   "cell_type": "code",
   "execution_count": null,
   "id": "8da53415-aa64-4867-afd2-da43831ee464",
   "metadata": {},
   "outputs": [],
   "source": []
  }
 ],
 "metadata": {
  "colab": {
   "provenance": []
  },
  "kaggle": {
   "accelerator": "gpu",
   "dataSources": [],
   "dockerImageVersionId": 31090,
   "isGpuEnabled": true,
   "isInternetEnabled": true,
   "language": "python",
   "sourceType": "notebook"
  },
  "kernelspec": {
   "display_name": "Python [conda env:base] *",
   "language": "python",
   "name": "conda-base-py"
  },
  "language_info": {
   "codemirror_mode": {
    "name": "ipython",
    "version": 3
   },
   "file_extension": ".py",
   "mimetype": "text/x-python",
   "name": "python",
   "nbconvert_exporter": "python",
   "pygments_lexer": "ipython3",
   "version": "3.12.2"
  }
 },
 "nbformat": 4,
 "nbformat_minor": 5
}
